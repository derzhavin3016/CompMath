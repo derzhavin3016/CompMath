{
  "nbformat": 4,
  "nbformat_minor": 2,
  "metadata": {
    "colab": {
      "name": "Копия блокнота \"Lab2.ipynb\"",
      "provenance": [],
      "collapsed_sections": [],
      "authorship_tag": "ABX9TyMzod8fYbSmim+YYjq9U9n0",
      "include_colab_link": true
    },
    "kernelspec": {
      "name": "python3",
      "display_name": "Python 3.8.10 64-bit"
    },
    "language_info": {
      "name": "python",
      "version": "3.8.10",
      "mimetype": "text/x-python",
      "codemirror_mode": {
        "name": "ipython",
        "version": 3
      },
      "pygments_lexer": "ipython3",
      "nbconvert_exporter": "python",
      "file_extension": ".py"
    },
    "interpreter": {
      "hash": "31f2aee4e71d21fbe5cf8b01ff0e069b9275f58929596ceb00d14d90e3e16cd6"
    }
  },
  "cells": [
    {
      "cell_type": "markdown",
      "source": [
        "<a href=\"https://colab.research.google.com/github/derzhavin3016/CompMath/blob/master/Lab2/Lab2.ipynb\" target=\"_parent\"><img src=\"https://colab.research.google.com/assets/colab-badge.svg\" alt=\"Open In Colab\"/></a>"
      ],
      "metadata": {
        "id": "view-in-github",
        "colab_type": "text"
      }
    },
    {
      "cell_type": "markdown",
      "source": [
        "# Домашняя лабораторная работа №2 по вычислительной математике\n",
        "Державин Андрей, Б01-909 группа\n"
      ],
      "metadata": {
        "id": "d6ndWJPxwsva"
      }
    },
    {
      "cell_type": "markdown",
      "source": [
        "Задача II.10.6 (к)\n",
        "\n",
        "$$\n",
        "  \\left\\lbrace\n",
        "  \\begin{matrix}\n",
        "    a_{11} x_1 + a_{12} x_2 + \\dots + a_{1n} x_n &= &f_1 \\\\\n",
        "    \\dots  &\\dots   &\\dots \\\\\n",
        "    a_{n1} x_1 + a_{n2} x_2 + \\dots + a_{nn} x_n &= &f_n\n",
        "  \\end{matrix}\n",
        "  \\right. ,\n",
        "$$\n",
        "где\n",
        "$$\n",
        "n = 10, \\: \n",
        "a_{ii} = 1, \\: \n",
        "a_{ij} = \\frac{1}{i + j} (i \\neq j), \\:\n",
        "f_i = \\frac{1}{i} \n",
        "$$"
      ],
      "metadata": {
        "id": "oVfq3kEZw6mP"
      }
    },
    {
      "cell_type": "code",
      "execution_count": 115,
      "source": [
        "import numpy as np\n",
        "from numpy import linalg as ling"
      ],
      "outputs": [],
      "metadata": {
        "id": "qmD0SUmowMxu"
      }
    },
    {
      "cell_type": "markdown",
      "source": [
        "## Определяем константы: размер матрицы и погрешность (для сравнения чисел с 0)"
      ],
      "metadata": {
        "id": "c2dCoEaiS7ho"
      }
    },
    {
      "cell_type": "code",
      "execution_count": 116,
      "source": [
        "SIZE = 10\n",
        "ACCURACY = 1e-10"
      ],
      "outputs": [],
      "metadata": {
        "id": "t_UGXUwqwdcB"
      }
    },
    {
      "cell_type": "markdown",
      "source": [
        "# Метод Гаусса"
      ],
      "metadata": {}
    },
    {
      "cell_type": "markdown",
      "source": [
        "## Функция сравнения числа с нулём с учётом погрешности"
      ],
      "metadata": {
        "id": "eWVVMGYkTCK5"
      }
    },
    {
      "cell_type": "code",
      "execution_count": 117,
      "source": [
        "def is_zero(num: float):\n",
        "  return abs(num) < ACCURACY"
      ],
      "outputs": [],
      "metadata": {
        "id": "cpZRcGdLDsqK"
      }
    },
    {
      "cell_type": "markdown",
      "source": [
        "## Функция нахождения срочки в матрице, в которой в столбце `idx` стоит ненулеове число"
      ],
      "metadata": {
        "id": "COa_nPNhTGuK"
      }
    },
    {
      "cell_type": "code",
      "execution_count": 118,
      "source": [
        "def find_non_zero(arr, col_idx):\n",
        "  for i in range(col_idx + 1, SIZE):\n",
        "    if not is_zero(arr[i][col_idx]):\n",
        "      return col_idx\n",
        "  return -1"
      ],
      "outputs": [],
      "metadata": {
        "id": "vKHfN6shEdmt"
      }
    },
    {
      "cell_type": "markdown",
      "source": [
        "## Функция приведения к диагональному виду (прямой ход Гаусса)"
      ],
      "metadata": {
        "id": "xJuXfj8fTQLT"
      }
    },
    {
      "cell_type": "code",
      "execution_count": 119,
      "source": [
        "def to_diag(matr):\n",
        "  for i in range(SIZE - 1):\n",
        "    if is_zero(matr[i][i]):\n",
        "      non_z_line = find_non_zero(matr, i)\n",
        "      if non_z_line == -1:\n",
        "        raise ValueError(\"Invalid Matrix\")\n",
        "      # swap rows\n",
        "      matr[[i, non_z_line]] = matr[[non_z_line, i]]\n",
        "\n",
        "    div = matr[i][i]\n",
        "    for j in range(i + 1, SIZE):\n",
        "      matr[j] += (-matr[j][i] / div) * matr[i] "
      ],
      "outputs": [],
      "metadata": {
        "id": "l60ufHLnDGWc"
      }
    },
    {
      "cell_type": "markdown",
      "source": [
        "## Вспомогательные функции:\n",
        "1. `zero_small` - замена всех малых чисел на 0\n",
        "1. `arr_print` - распечатать матрицу в красивом виде"
      ],
      "metadata": {
        "id": "ygsIHgEaTVlZ"
      }
    },
    {
      "cell_type": "code",
      "execution_count": 120,
      "source": [
        "def zero_small(matr):\n",
        "  for i in range(matr.shape[0]):\n",
        "    for j in range(matr.shape[1]):\n",
        "      if is_zero(matr[i][j]):\n",
        "        matr[i][j] = 0\n",
        "def arr_print(matr):\n",
        "  for row in matr:\n",
        "    for elem in row:\n",
        "      print(f\"{elem} \", end=\"\")\n",
        "    print()\n"
      ],
      "outputs": [],
      "metadata": {
        "id": "eL-m345cGo4Y"
      }
    },
    {
      "cell_type": "markdown",
      "source": [
        "## Функция обратного хода Гаусса, возвращает столбец решений"
      ],
      "metadata": {
        "id": "u7QqxlB6TwQe"
      }
    },
    {
      "cell_type": "code",
      "execution_count": 121,
      "source": [
        "def rev_hod(matr):\n",
        "  sz = matr.shape[0]\n",
        "  sol = np.zeros((sz, 1))\n",
        "  sol[sz - 1][0] = matr[sz - 1][sz] / matr[sz - 1][sz - 1]\n",
        "  for i in range(sz - 2, -1, -1):\n",
        "    sum = 0\n",
        "    for j in range(i + 1, sz):\n",
        "      sum += matr[i][j] * sol[j][0]\n",
        "    sol[i][0] = (matr[i][sz] - sum) / matr[i][i]\n",
        "  return sol"
      ],
      "outputs": [],
      "metadata": {
        "id": "YLIqs8JBJ2HL"
      }
    },
    {
      "cell_type": "markdown",
      "source": [
        "## Основная программа:\n",
        "1. Заполенение матрицы $A$ и столбца $f$\n",
        "1. \"Приклеивание\" к матрице столбца\n",
        "1. Выполнение прямого и обратного ходов\n",
        "1. Печать вектора решений"
      ],
      "metadata": {
        "id": "r2-g6yMqTzUc"
      }
    },
    {
      "cell_type": "code",
      "execution_count": 122,
      "source": [
        "A = np.ones((SIZE, SIZE))\n",
        "for i in range(SIZE):\n",
        "  for j in range(SIZE):\n",
        "    if i != j:\n",
        "      A[i][j] = 1 / (i + j + 2)\n",
        "f = np.array([[1 / i for i in range(1, SIZE + 1)]]).transpose()\n",
        "Asys = np.hstack((A, f))\n",
        "to_diag(Asys)\n",
        "#zero_small(Asys) # set all small numbers to zero (< 1e-10)\n",
        "#arr_print(Asys)\n",
        "sol = rev_hod(Asys)\n",
        "print(f\"Решение x = \\n{sol}\")"
      ],
      "outputs": [
        {
          "output_type": "stream",
          "name": "stdout",
          "text": [
            "Решение x = \n",
            "[[ 9.19077109e-01]\n",
            " [ 1.75540170e-01]\n",
            " [ 6.39348240e-02]\n",
            " [ 2.72747640e-02]\n",
            " [ 1.14234685e-02]\n",
            " [ 3.51083928e-03]\n",
            " [-7.89957814e-04]\n",
            " [-3.25080145e-03]\n",
            " [-4.69787781e-03]\n",
            " [-5.55373994e-03]]\n"
          ]
        }
      ],
      "metadata": {
        "colab": {
          "base_uri": "https://localhost:8080/"
        },
        "id": "sbGC8emPHebA",
        "outputId": "b4f81baa-e591-4a0e-fb22-b31c31c29800"
      }
    },
    {
      "cell_type": "code",
      "execution_count": 123,
      "source": [
        "def vec_n1(vec):\n",
        "  return max(abs(vec))\n",
        "\n",
        "def vec_n2(vec):\n",
        "  return sum(abs(vec))\n",
        "\n",
        "def vec_n3(vec):\n",
        "  return np.sqrt(sum(vec * vec))"
      ],
      "outputs": [],
      "metadata": {}
    },
    {
      "cell_type": "markdown",
      "source": [
        "## Вывод  невязки."
      ],
      "metadata": {
        "id": "tuP836uyUUtB"
      }
    },
    {
      "cell_type": "code",
      "execution_count": 124,
      "source": [
        "diff  = (np.linalg.solve(A, f) - sol)\n",
        "err = f - np.dot(A, sol)\n",
        "\n",
        "print(f'Невязка 1: {vec_n1(err)[0]}')\n",
        "print(f'Невязка 2: {vec_n2(err)[0]}')\n",
        "print(f'Невязка 3: {vec_n3(err)[0]}')"
      ],
      "outputs": [
        {
          "output_type": "stream",
          "name": "stdout",
          "text": [
            "Невязка 1: 2.7755575615628914e-17\n",
            "Невязка 2: 1.1102230246251565e-16\n",
            "Невязка 3: 5.1925927263190304e-17\n"
          ]
        }
      ],
      "metadata": {
        "colab": {
          "base_uri": "https://localhost:8080/"
        },
        "id": "VhItk4YjJTuA",
        "outputId": "d9dc0a33-01a1-466f-8e9d-4bec82fda455"
      }
    },
    {
      "cell_type": "markdown",
      "source": [
        "## Функции для подсчёта норм"
      ],
      "metadata": {
        "id": "7IZ5aK0sGlBT"
      }
    },
    {
      "cell_type": "code",
      "execution_count": 125,
      "source": [
        "def norm_1(matr):\n",
        "  max_s = 0\n",
        "  rows, cols = matr.shape\n",
        "  for j in range(cols):\n",
        "    sum = 0\n",
        "    for i in range(rows):\n",
        "      sum += abs(matr[i][j])\n",
        "    max_s = max(sum, max_s)\n",
        "\n",
        "  return max_s\n",
        "\n",
        "def norm_2(matr):\n",
        "  rows, cols = matr.shape\n",
        "  max_s = 0\n",
        "  for i in range(rows):\n",
        "    max_s = max(sum(abs(matr[i])), max_s)\n",
        "\n",
        "  return max_s\n",
        "\n",
        "def norm_3(matr):\n",
        "  return np.sqrt(max(abs(np.linalg.eigvals(np.dot(matr, matr.transpose())))))"
      ],
      "outputs": [],
      "metadata": {
        "id": "iKGst_9b-DEP"
      }
    },
    {
      "cell_type": "markdown",
      "source": [
        "## Подсчёт обсуловленности через 3 разные нормы"
      ],
      "metadata": {
        "id": "B6-ysmu6Gdqm"
      }
    },
    {
      "cell_type": "code",
      "execution_count": 126,
      "source": [
        "Ainv = np.linalg.inv(A)\n",
        "mus = [\n",
        "    norm_1(A) * norm_1(Ainv),\n",
        "    norm_2(A) * norm_2(Ainv),\n",
        "    norm_3(A) * norm_3(Ainv)\n",
        "]\n",
        "for i, elem in enumerate(mus):\n",
        "  print(f\"mu_{i} = {elem}\")"
      ],
      "outputs": [
        {
          "output_type": "stream",
          "name": "stdout",
          "text": [
            "mu_0 = 5.6336089382284005\n",
            "mu_1 = 5.6336089382284005\n",
            "mu_2 = 3.113199424608562\n"
          ]
        }
      ],
      "metadata": {
        "colab": {
          "base_uri": "https://localhost:8080/"
        },
        "id": "giZHAS5M8wlF",
        "outputId": "af328810-2f5a-4e22-a3bd-0b03f80c7863"
      }
    },
    {
      "cell_type": "markdown",
      "source": [
        "# Метод Зейделя"
      ],
      "metadata": {}
    },
    {
      "cell_type": "code",
      "execution_count": 141,
      "source": [
        "def get_LUD(matr):\n",
        "  sz = matr.shape[0]\n",
        "  D = np.zeros((sz, sz))\n",
        "  L = np.zeros((sz, sz))\n",
        "  U = np.zeros((sz, sz))\n",
        "  for i in range(sz):\n",
        "    for j in range(sz):\n",
        "      if i == j:\n",
        "        D[i][j] = matr[i][j]\n",
        "      elif i > j:\n",
        "        L[i][j] = matr[i][j]\n",
        "      else:\n",
        "        U[i][j] = matr[i][j]\n",
        "  return L, U, D"
      ],
      "outputs": [],
      "metadata": {
        "colab": {
          "base_uri": "https://localhost:8080/"
        },
        "id": "P4umkmTcCLWO",
        "outputId": "f08b3495-6a2d-4ca7-a472-07c7d0e1640e"
      }
    },
    {
      "cell_type": "code",
      "execution_count": 142,
      "source": [
        "def zeidel(matr, b, eps, norm):\n",
        "  print(f\"Норма {norm.__name__}\")\n",
        "  it = 0\n",
        "  converged = False\n",
        "  \n",
        "  x = np.zeros((SIZE, 1))\n",
        "  \n",
        "  L, U, D = get_LUD(matr)\n",
        "  LDinv = np.linalg.inv(L + D)\n",
        "  LDinvU = np.dot(LDinv, U)\n",
        "  \n",
        "  while not converged:\n",
        "    it += 1\n",
        "    x_new = -np.dot(LDinvU, x) + np.dot(LDinv, b)\n",
        "    converged = norm(x_new - x) < eps\n",
        "    x = x_new\n",
        "  \n",
        "  print(f'Количество итераций {it}')\n",
        "  print(f'Невязка: {norm(b - np.dot(matr,x))[0]}')\n",
        "  print(f'Условие останова ||x_{{k+1}} - x_k||_{norm.__name__[-1]} < {eps}')\n",
        "  print(f'Решение x = \\n{x}')"
      ],
      "outputs": [],
      "metadata": {}
    },
    {
      "cell_type": "code",
      "execution_count": 151,
      "source": [
        "eps = 1e-16"
      ],
      "outputs": [],
      "metadata": {}
    },
    {
      "cell_type": "code",
      "execution_count": 152,
      "source": [
        "zeidel(A, f, eps, vec_n1)"
      ],
      "outputs": [
        {
          "output_type": "stream",
          "name": "stdout",
          "text": [
            "Норма vec_n1\n",
            "Количество итераций 25\n",
            "Невязка: 5.551115123125783e-17\n",
            "Условие останова ||x_{k+1} - x_k||_1 < 1e-16\n",
            "Решение x = \n",
            "[[ 9.19077109e-01]\n",
            " [ 1.75540170e-01]\n",
            " [ 6.39348240e-02]\n",
            " [ 2.72747640e-02]\n",
            " [ 1.14234685e-02]\n",
            " [ 3.51083928e-03]\n",
            " [-7.89957814e-04]\n",
            " [-3.25080145e-03]\n",
            " [-4.69787781e-03]\n",
            " [-5.55373994e-03]]\n"
          ]
        }
      ],
      "metadata": {}
    },
    {
      "cell_type": "code",
      "execution_count": 153,
      "source": [
        "zeidel(A, f, eps, vec_n2)"
      ],
      "outputs": [
        {
          "output_type": "stream",
          "name": "stdout",
          "text": [
            "Норма vec_n2\n",
            "Количество итераций 25\n",
            "Невязка: 2.220446049250313e-16\n",
            "Условие останова ||x_{k+1} - x_k||_2 < 1e-16\n",
            "Решение x = \n",
            "[[ 9.19077109e-01]\n",
            " [ 1.75540170e-01]\n",
            " [ 6.39348240e-02]\n",
            " [ 2.72747640e-02]\n",
            " [ 1.14234685e-02]\n",
            " [ 3.51083928e-03]\n",
            " [-7.89957814e-04]\n",
            " [-3.25080145e-03]\n",
            " [-4.69787781e-03]\n",
            " [-5.55373994e-03]]\n"
          ]
        }
      ],
      "metadata": {}
    },
    {
      "cell_type": "code",
      "execution_count": 154,
      "source": [
        "zeidel(A, f, eps, vec_n3)"
      ],
      "outputs": [
        {
          "output_type": "stream",
          "name": "stdout",
          "text": [
            "Норма vec_n3\n",
            "Количество итераций 25\n",
            "Невязка: 9.614813431917819e-17\n",
            "Условие останова ||x_{k+1} - x_k||_3 < 1e-16\n",
            "Решение x = \n",
            "[[ 9.19077109e-01]\n",
            " [ 1.75540170e-01]\n",
            " [ 6.39348240e-02]\n",
            " [ 2.72747640e-02]\n",
            " [ 1.14234685e-02]\n",
            " [ 3.51083928e-03]\n",
            " [-7.89957814e-04]\n",
            " [-3.25080145e-03]\n",
            " [-4.69787781e-03]\n",
            " [-5.55373994e-03]]\n"
          ]
        }
      ],
      "metadata": {}
    }
  ]
}