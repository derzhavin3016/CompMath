{
  "nbformat": 4,
  "nbformat_minor": 0,
  "metadata": {
    "colab": {
      "name": "Lab9.ipynb",
      "provenance": [],
      "collapsed_sections": [],
      "authorship_tag": "ABX9TyPPgQMeMVHjCuTsHY1Tuk7m",
      "include_colab_link": true
    },
    "kernelspec": {
      "name": "python3",
      "display_name": "Python 3"
    },
    "language_info": {
      "name": "python"
    }
  },
  "cells": [
    {
      "cell_type": "markdown",
      "metadata": {
        "id": "view-in-github",
        "colab_type": "text"
      },
      "source": [
        "<a href=\"https://colab.research.google.com/github/derzhavin3016/CompMath/blob/master/Lab9/Lab9.ipynb\" target=\"_parent\"><img src=\"https://colab.research.google.com/assets/colab-badge.svg\" alt=\"Open In Colab\"/></a>"
      ]
    },
    {
      "cell_type": "markdown",
      "source": [
        "# Домашняя лабораторная работа №9 по вычислительной математике"
      ],
      "metadata": {
        "id": "U33my5vRjf9Y"
      }
    },
    {
      "cell_type": "markdown",
      "source": [
        "Державин Андрей, Б01-909"
      ],
      "metadata": {
        "id": "l6SKJeCdjkEH"
      }
    },
    {
      "cell_type": "markdown",
      "source": [
        "## Задача XI.9.5"
      ],
      "metadata": {
        "id": "XZcT_euOjmhA"
      }
    },
    {
      "cell_type": "markdown",
      "source": [
        "Для численного отыскания периодического с периодом $1$ решения уравнения\n",
        "$$\n",
        "y'' - P^2(x)y = f(x), \\: x\\in \\left[ 0, 1 \\right]\n",
        "$$\n",
        "где\n",
        "$$\n",
        "P^2(x) =  10 + \\sin{2\\pi x}, \\:\\:\\:\n",
        "f(x) = \\cos{2\\pi x}, \\:\\:\\:\n",
        "h = 0.005, \\: \\: Nh = 1\n",
        "$$\n",
        "используется разностная схема\n",
        "$$\n",
        "\\left\\lbrace\n",
        "\\begin{matrix}\n",
        "\\dfrac{y_1 - 2y_0 + y_{N-1}}{h^2} - P^2(0)y_0 &=& f(0)& \\\\\n",
        "\\dfrac{y_{n+1} - 2y_n + y_{n-1}}{h^2} - P^2(nh)y_n &=& f(nh)&, \\: n = 1,2, \\dots, N-2 \\\\\n",
        "\\dfrac{y_0 - 2y_{N-1} + y_{N-2}}{h^2} - P^2(1-h)y_{N-1} &=& f(1-h)& \\\\\n",
        "\\end{matrix}\n",
        "\\right.\n",
        "$$\n",
        "где $y_0 = y_N$\n"
      ],
      "metadata": {
        "id": "5Mxx8Vr-jsL7"
      }
    },
    {
      "cell_type": "markdown",
      "source": [
        "### Описание метода"
      ],
      "metadata": {
        "id": "S9WwQ-KfpoDh"
      }
    },
    {
      "cell_type": "markdown",
      "source": [
        "Перепишем систему:\n",
        "$$\n",
        "\\left\\lbrace\n",
        "\\begin{matrix}\n",
        "y_1 - 2y_0 + y_{N-1} - P^2(0)y_0h^2 &=& f(0)h^2& \\\\\n",
        "y_{n+1} - 2y_n + y_{n-1} - P^2(nh)y_nh^2 &=& f(nh)h^2&, \\: n = 1,2, \\dots, N-2 \\\\\n",
        "y_0 - 2y_{N-1} + y_{N-2} - P^2(1-h)y_{N-1}h^2 &=& f(1-h)h^2& \\\\\n",
        "\\end{matrix}\n",
        "\\right. \\Leftrightarrow\n",
        "$$\n",
        "$$\n",
        "\\left\\lbrace\n",
        "\\begin{matrix}\n",
        "y_{N-1} - \\left(2 + P^2(0)h^2\\right)y_0 + y_{1} &=& f(0)h^2& \\\\\n",
        "y_{n-1} - \\left(2 + P^2(nh)h^2\\right)y_n + y_{n+1} &=& f(nh)h^2&, \\: n = 1,2, \\dots, N-2 \\\\\n",
        "y_{N-2} - \\left(2 + P^2(1-h)h^2\\right)y_{N-1} + y_0 &=& f(1-h)h^2& \\\\\n",
        "\\end{matrix}\n",
        "\\right. \\Leftrightarrow\n",
        "$$\n",
        "Введём обозначения\n",
        "$$\n",
        "b_k = 2 + P^2(kh)h^2, \\:\n",
        "\\varphi_k = f_kh^2\n",
        "$$\n",
        "Тогда система запишется в виде\n",
        "$$\n",
        "\\left\\lbrace\n",
        "\\begin{matrix}\n",
        "y_{N-1} - b_0y_0 + y_{1} &=& \\varphi_0& \\\\\n",
        "y_{n-1} - b_ny_n + y_{n+1} &=& \\varphi_n&, \\: n = 1,2, \\dots, N-2 \\\\\n",
        "y_{N-2} - b_{N-1}y_{N-1} + y_0 &=& \\varphi_{N-1}& \\\\\n",
        "\\end{matrix}\n",
        "\\right.\n",
        "$$\n",
        "Из первого уравнения получаем для $y_0$:\n",
        "$$\n",
        "y_0 = \\dfrac{1}{b_0} y_1 - \\dfrac{\\varphi_0}{b_0} + \\dfrac{1}{b_0}y_{N-1}\n",
        "⇔\n",
        "\\left[\n",
        "\\begin{matrix}\n",
        "\\alpha_1 = \\dfrac{1}{b_0}\\\\\n",
        "\\beta_1 = - \\dfrac{\\varphi_0}{b_0} \\\\\n",
        "\\gamma_1 = \\dfrac{1}{b_0} \n",
        "\\end{matrix}\n",
        "\\right] \\Leftrightarrow\n",
        "y_0 = \\alpha_1 y_1 + \\beta_1 + \\gamma_1y_{N-1}\n",
        "$$\n",
        "Из второго уравнения получаем для $y_{n-1}$:\n",
        "$$\n",
        "y_{n-1} = b_ny_n + \\varphi_n - y_{n+1}\n",
        "$$\n",
        "$\\sphericalangle n = N - 2$:\n",
        "\n",
        "$$\n",
        "y_{N-3} = b_{N-2}y_{N-2} + \\varphi_{N-2} - y_{N-1}\n",
        "$$\n",
        "Подставим $y_{N-2} - b_{N-1}y_{N-1} + y_0 = \\varphi_{N-1}$:\n",
        "$$\n",
        "y_{N-3} = b_{N-2}y_{N-2} + \\varphi_{N-2} - \\left(\n",
        "  \\dfrac{1}{b_{N-1}} y_{N-2} - \\dfrac{\\varphi_{N-1}}{b_{N-1}} +  \n",
        "  \\dfrac{1}{b_{N-1}} y_0 \n",
        "\\right) = \\left(b_{N-2} - \\dfrac{1}{b_{N-1}} \\right)y_{N-2} \n",
        "+ \\varphi_{N-2} - \\dfrac{\\varphi_{N-1}}{b_{N-1}} + \\dfrac{1}{b_{N-1}} y_0 \n",
        "$$"
      ],
      "metadata": {
        "id": "Q-R8TdrZzaYg"
      }
    },
    {
      "cell_type": "markdown",
      "source": [
        "\n"
      ],
      "metadata": {
        "id": "i5Vl3YcjprPy"
      }
    },
    {
      "cell_type": "code",
      "source": [
        ""
      ],
      "metadata": {
        "id": "kvT4Ej6-JYfo"
      },
      "execution_count": null,
      "outputs": []
    },
    {
      "cell_type": "code",
      "execution_count": null,
      "metadata": {
        "id": "GjO2oBUfjc-B"
      },
      "outputs": [],
      "source": [
        ""
      ]
    },
    {
      "cell_type": "markdown",
      "source": [
        ""
      ],
      "metadata": {
        "id": "J6wFlMEhmPGZ"
      }
    }
  ]
}