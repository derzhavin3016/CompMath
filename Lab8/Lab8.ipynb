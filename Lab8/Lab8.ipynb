{
  "nbformat": 4,
  "nbformat_minor": 0,
  "metadata": {
    "colab": {
      "name": "Lab8.ipynb",
      "provenance": [],
      "authorship_tag": "ABX9TyMkw8uQ4qcKUe29MT/picLu",
      "include_colab_link": true
    },
    "kernelspec": {
      "name": "python3",
      "display_name": "Python 3"
    },
    "language_info": {
      "name": "python"
    }
  },
  "cells": [
    {
      "cell_type": "markdown",
      "metadata": {
        "id": "view-in-github",
        "colab_type": "text"
      },
      "source": [
        "<a href=\"https://colab.research.google.com/github/derzhavin3016/CompMath/blob/master/Lab8/Lab8.ipynb\" target=\"_parent\"><img src=\"https://colab.research.google.com/assets/colab-badge.svg\" alt=\"Open In Colab\"/></a>"
      ]
    },
    {
      "cell_type": "markdown",
      "source": [
        "# Домашняя лабораторная работа №8 по вычислительной математике"
      ],
      "metadata": {
        "id": "syfew3uxZ6CI"
      }
    },
    {
      "cell_type": "markdown",
      "source": [
        "Державин Андрей, Б01-909"
      ],
      "metadata": {
        "id": "JbMN-ESWZ8vH"
      }
    },
    {
      "cell_type": "markdown",
      "source": [
        "## Задача XI.9.2 a)"
      ],
      "metadata": {
        "id": "wJU3JWIGZ_pJ"
      }
    },
    {
      "cell_type": "markdown",
      "source": [
        "Получите численное решение нелинейной краевой задачи\n",
        "$$\n",
        "y'' + px\\cdot \\cos{y} = 0, \\:\\: 0 < x \\leq 1,  \n",
        "$$\n",
        "$$\n",
        "y(0) = 0, \\: y(1) = 0\n",
        "$$\n",
        "$$\n",
        "p = 1, 4, 7, 25, 50, 100\n",
        "$$"
      ],
      "metadata": {
        "id": "KWEuWprja7G3"
      }
    },
    {
      "cell_type": "markdown",
      "source": [
        "### Описание метода"
      ],
      "metadata": {
        "id": "wtYqkNF2fTok"
      }
    },
    {
      "cell_type": "markdown",
      "source": [
        "Имеем краевую задачу:\n",
        "$$\n",
        "\\left\\lbrace\n",
        "\\begin{matrix}\n",
        "y'' + px\\cdot \\cos{y} &=& 0, \\:\\: x \\in \\left( 0, 1\\right] \\\\\n",
        "y(0) &=& 0\\\\\n",
        "y(1) &=& 0\n",
        "\\end{matrix}\n",
        "\\right.\n",
        "$$\n",
        "\n",
        "Зададимся начальным значением производной $\\alpha$:\n",
        "$$\n",
        "\\left\\lbrace\n",
        "\\begin{matrix}\n",
        "y(0) &=& 0\\\\\n",
        "y'(0) &=& \\alpha\\\\\n",
        "y'' + px\\cdot \\cos{y} &=& 0, \\:\\: x \\in \\left( 0, 1\\right] \\\\\n",
        "\\end{matrix}\n",
        "\\right.\n",
        "$$\n",
        "Распишем разностную задачу для этой системы ($h$ - шаг по $x$):\n",
        "$$\n",
        "\\left\\lbrace\n",
        "\\begin{matrix}\n",
        "y_0 &=& 0\\\\\n",
        "y_1 &=& h\\alpha\\\\\n",
        "\\frac{y_{k+1} - 2y_k + y_{k-1}}{h^2} &=& - px\\cdot \\cos{y_k}, \\:\n",
        "k = \\overline{1\\dots n}\n",
        "\\end{matrix}\n",
        "\\right.\n",
        "$$\n",
        "В матричном виде:\n",
        "$$\n",
        "A \\overrightarrow{y} = \\overrightarrow{f},\n",
        "$$\n",
        "где\n",
        "$$\n",
        "A = \\left(\n",
        "\\begin{matrix}\n",
        "1 & 0 & 0 & 0 & \\dots & 0\\\\\n",
        "-2 & 1 & 0 & 0 & \\dots & 0\\\\\n",
        "1 & -2 & 1 &0& \\dots & 0\\\\\n",
        "0 & 1 & -2 & 1 & \\dots & 0\\\\\n",
        "\\dots & \\dots &\\dots &\\dots & \\dots &\\dots \\\\\n",
        "0 &0 &0 &0 & \\dots & 1\n",
        "\\end{matrix}\n",
        "\\right)\n",
        "$$\n",
        "$$\n",
        "\\overrightarrow{y} = \\left[\n",
        "\\begin{matrix}\n",
        "y_2 \\\\\n",
        "y_3 \\\\\n",
        "y_4 \\\\\n",
        "\\dots \\\\\n",
        "y_n\\\\\n",
        "y_{n+1}\n",
        "\\end{matrix}\n",
        "\\right]\n",
        ",\\:\n",
        "\\overrightarrow{f} = \\left[\n",
        "\\begin{matrix}\n",
        "-p\\cdot x\\cdot h^2\\cos y_1 + 2 \\alpha h \\\\\n",
        "-p\\cdot x\\cdot h^2\\cos y_2 - 2\\alpha h\\\\\n",
        "-p\\cdot x\\cdot h^2\\cos y_3 \\\\\n",
        "\\dots \\\\\n",
        "-p\\cdot x\\cdot h^2\\cos y_{n-1}\\\\\n",
        "-p\\cdot x\\cdot h^2\\cos y_{n}\n",
        "\\end{matrix}\n",
        "\\right]\n",
        "$$\n",
        "Решая эту систему (например, методом трёхдиагональной прогонки), получаем значение в правой точке - $y_{n+1}$. Метод будет завершён, когда $\\left|y_{n+1} - y(1) \\right| < \\varepsilon$, то есть, по сути, задача сводится к нахождению нуля функции\n",
        "$$\n",
        "F(\\alpha) = y(1) - y_{n+1}(\\alpha)\n",
        "$$\n",
        "Решим методом Ньютона:\n",
        "$$\n",
        "\\alpha_{k+1} = \\alpha_k - \\frac{F(\\alpha_k)}{F'(\\alpha_k)},\n",
        "$$\n",
        "где\n",
        "$$\n",
        "F'(\\alpha_k) = \\frac{F(\\alpha_k) - F(\\alpha_{k-1})}{\\alpha_k - \\alpha_{k-1}}\n",
        "$$"
      ],
      "metadata": {
        "id": "fkcU9AMsfWV6"
      }
    },
    {
      "cell_type": "markdown",
      "source": [
        "### Реализация"
      ],
      "metadata": {
        "id": "HHS9n2ZdfXZS"
      }
    },
    {
      "cell_type": "code",
      "execution_count": 1,
      "metadata": {
        "id": "oJyY7Gm7ZxP8"
      },
      "outputs": [],
      "source": [
        "import numpy as np\n",
        "from matplotlib import pyplot as plt"
      ]
    },
    {
      "cell_type": "code",
      "source": [
        "def getA(h: float, n: int):\n",
        "  assert n > 1, \"n must be at least 1\"\n",
        "  \n",
        "  b_arr = np.ones(n + 2)\n",
        "  b_arr[1] = 1 / h\n",
        "  for i in range(2, n + 2):\n",
        "    b_arr[i] = 1 / h**2\n",
        "\n",
        "  a_arr = np.zeros(n + 2)\n",
        "  a_arr[1] = -1 / h"
      ],
      "metadata": {
        "id": "E3Yk6v5YvYNm"
      },
      "execution_count": null,
      "outputs": []
    }
  ]
}