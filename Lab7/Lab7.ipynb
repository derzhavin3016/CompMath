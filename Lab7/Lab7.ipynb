{
  "nbformat": 4,
  "nbformat_minor": 0,
  "metadata": {
    "colab": {
      "name": "Lab7.ipynb",
      "provenance": [],
      "collapsed_sections": [],
      "authorship_tag": "ABX9TyMzgkn+VqRsS6Yqm2aQoKHZ",
      "include_colab_link": true
    },
    "kernelspec": {
      "name": "python3",
      "display_name": "Python 3"
    },
    "language_info": {
      "name": "python"
    }
  },
  "cells": [
    {
      "cell_type": "markdown",
      "metadata": {
        "id": "view-in-github",
        "colab_type": "text"
      },
      "source": [
        "<a href=\"https://colab.research.google.com/github/derzhavin3016/CompMath/blob/master/Lab7/Lab7.ipynb\" target=\"_parent\"><img src=\"https://colab.research.google.com/assets/colab-badge.svg\" alt=\"Open In Colab\"/></a>"
      ]
    },
    {
      "cell_type": "markdown",
      "source": [
        "# Домашняя лабораторная работа №7 по вычислительной математике"
      ],
      "metadata": {
        "id": "dR8_Bujw1Ql4"
      }
    },
    {
      "cell_type": "markdown",
      "source": [
        "Державин Андрей, Б01-909"
      ],
      "metadata": {
        "id": "sas6WZHw1Vkq"
      }
    },
    {
      "cell_type": "markdown",
      "source": [
        "## Задача X.9.3"
      ],
      "metadata": {
        "id": "6sHN8tvX1aGQ"
      }
    },
    {
      "cell_type": "markdown",
      "source": [
        "![изображение.png](data:image/png;base64,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)"
      ],
      "metadata": {
        "id": "l04R6p581whN"
      }
    },
    {
      "cell_type": "code",
      "execution_count": 1,
      "metadata": {
        "id": "A2vXNeFO04n7"
      },
      "outputs": [],
      "source": [
        "import numpy as np\n",
        "from matplotlib import pyplot as plt"
      ]
    },
    {
      "cell_type": "markdown",
      "source": [
        "### Описание метода"
      ],
      "metadata": {
        "id": "OdwdaDcqqYk-"
      }
    },
    {
      "cell_type": "markdown",
      "source": [
        "Имеем уравнение Рэлея:\n",
        "$$\n",
        "\\frac{d^2x}{dt^2} - \\mu \\left( 1 -  \\left(\\frac{dx}{dt}\\right)^2\\right)\n",
        "\\frac{dx}{dt} + x = 0\n",
        "$$\n",
        "С Н.У.:\n",
        "$$\n",
        "x(0) = 0, \\:\\:\\:\\:\\:\\:\\:\\:\\:\\:\\:\\: \\dot{x}(0) = 0.001\n",
        "$$\n",
        "Вводя замену $y = \\frac{dx}{dt}$, перейдём к системе:\n",
        "$$\n",
        "\\left\\lbrace\n",
        "\\begin{matrix}\n",
        "  \\frac{dx}{dt} &=& y\\\\\n",
        "  \\frac{dy}{dt} &=& \\mu \\left( 1 -  y^2\\right)y - x\n",
        "\\end{matrix}\n",
        "\\right.\n",
        "$$\n",
        "С Н.У.:\n",
        "$$\n",
        "x(0) = 0, \\:\\:\\:\\:\\:\\:\\:\\:\\:\\:\\:\\: y(0) = 0.001\n",
        "$$\n",
        "Для удобства обозначим\n",
        "$$\n",
        "\\overrightarrow{u} = \\left[\\begin{matrix} x\\\\y\\end{matrix} \\right], \\:\\:\\:\\:\\:\\:\\:\\:\\:\\:\\:\\:\n",
        "\\overrightarrow{u_0} = \\left[\\begin{matrix} x(0)\\\\y(0)\\end{matrix} \\right] = \n",
        "\\left[\\begin{matrix} 0\\\\0.001\\end{matrix} \\right]\n",
        "$$\n",
        "$$\n",
        "f\\left(\\overrightarrow{u}\\right) = \\left[\n",
        "\\begin{matrix}\n",
        "y\\\\\n",
        "\\mu \\left( 1 -  y^2\\right)y - x\n",
        "\\end{matrix}\n",
        "\\right]\n",
        "$$\n",
        "Тогда наша система принимает окончательный вид:\n",
        "$$\n",
        "\\dot{\\overrightarrow{u}} = f\\left(\\overrightarrow{u}\\right)\n",
        "$$"
      ],
      "metadata": {
        "id": "s7iUUsIGqcWH"
      }
    },
    {
      "cell_type": "markdown",
      "source": [
        "Будем использовать метод Розенброка со следующими формулами:\n",
        "$$\n",
        "\\overrightarrow{u_{n+1}} = \\overrightarrow{u_{n}} + \\tau \\cdot\\Re\\left(\\overrightarrow{k}\\right)\n",
        "\\:\\:\\:\\:\\:\\:\\:\\:\\:\\:\\:\\:\\:\\:\\:\\:\\:\\:\n",
        "\\left(\n",
        "  E - \\frac{1+j}{2}\\tau f_u(\\overrightarrow{y_n}, t)\n",
        "\\right) \\overrightarrow{k} = f\\left(\\overrightarrow{y_n}, t + \\frac{\\tau}{2}\\right)\n",
        "$$\n",
        "В силу автономности системы:\n",
        "$$\n",
        "\\left(\n",
        "  E -  \\frac{1+j}{2}\\tau f_u(\\overrightarrow{y_n})\n",
        "\\right) \\overrightarrow{k} = f(\\overrightarrow{y_n})\n",
        "$$\n",
        "где $E$ - единичная матрица, $f_u$ - матрица Якоби системы\n"
      ],
      "metadata": {
        "id": "GwrBepldxuFk"
      }
    },
    {
      "cell_type": "markdown",
      "source": [
        "### Реализация "
      ],
      "metadata": {
        "id": "Cvfr-3z9oyPU"
      }
    },
    {
      "cell_type": "code",
      "source": [
        "# service class\n",
        "class Point:\n",
        "  def __init__(self, x, y):\n",
        "    self.x = x\n",
        "    self.y = y\n",
        "  \n",
        "  def __str__(self):\n",
        "    return f'({self.x}, {self.y})'\n",
        "  \n",
        "  def __repr__(self):\n",
        "    return f'({self.x}, {self.y})'\n",
        "\n",
        "  def __add__(self, other):\n",
        "    return Point(self.x + other.x, self.y + other.y)\n",
        "\n",
        "  def __sub__(self, other):\n",
        "    return Point(self.x - other.x, self.y - other.y)\n",
        "\n",
        "  def __mul__(self, num):\n",
        "    return Point(self.x * num, self.y * num)\n",
        "\n",
        "  def __div__(self, num):\n",
        "    return Point(self.x / num, self.y / num)"
      ],
      "metadata": {
        "id": "hsSjyUUeQLen"
      },
      "execution_count": 3,
      "outputs": []
    },
    {
      "cell_type": "code",
      "source": [
        "x0 = 0\n",
        "xdot0 = 0.001\n",
        "p0 = Point(x0, xdot0)\n",
        "\n",
        "c_p = Point(0, 0)\n",
        "\n",
        "mu = 1000\n",
        "T_k = 1000 # конечное время"
      ],
      "metadata": {
        "id": "jQy0K6-214eN"
      },
      "execution_count": 18,
      "outputs": []
    },
    {
      "cell_type": "code",
      "source": [
        "def func(time, u:Point) -> Point:\n",
        "  return Point(u.y, mu * (1 - u.y * u.y) * u.y - u.x)\n",
        "\n",
        "def jac(time, u:Point):\n",
        "  return np.matrix([\n",
        "    [0, 1],\n",
        "    [-1, mu * (1 - 3 * u.y * u.y)]\n",
        "  ])\n",
        "\n",
        "def Rosenbrock(t_end, p0:Point, tau):\n",
        "  u_prev = p0\n",
        "  u = [u_prev]\n",
        "  times = np.arange(0, t_end + tau, tau)\n",
        "  for t_n in times[1:]:\n",
        "    # matrix\n",
        "    mat = np.identity(2) - jac(t_n, u_prev) * tau * (1 + 1j) / 2\n",
        "    col = func(t_n, u_prev)\n",
        "\n",
        "    k = np.real(np.linalg.solve(mat, [col.x, col.y]))\n",
        "    k = Point(k[0], k[1])\n",
        "\n",
        "    u_next = u_prev + k * tau\n",
        "    u_prev = u_next\n",
        "    u.append(u_next)\n",
        "\n",
        "  return u, times\n",
        "\n",
        "def SolveNPrint(time, start_p:Point, center_p:Point, method, step = 1e-3):\n",
        "  u, ts = method(time, start_p, step)\n",
        "  u = np.array(u) - center_p\n",
        "  \n",
        "  plt.figure(figsize=[20, 10])\n",
        "\n",
        "  plt.title(f'Временная зависимость $x(t)$')\n",
        "  plt.plot(ts, [i.x for i in u], 'b.')\n",
        "  plt.xlabel('$t$', fontsize=20)\n",
        "  plt.ylabel('$x(t)$', fontsize=20)\n",
        "  plt.grid()\n",
        "\n",
        "  plt.show()\n",
        "  plt.plot([i.x for i in u], [i.y for i in u], \"b.\")"
      ],
      "metadata": {
        "id": "aQmhIL-7TeMY"
      },
      "execution_count": 16,
      "outputs": []
    },
    {
      "cell_type": "code",
      "source": [
        "SolveNPrint(T_k, p0, c_p, Rosenbrock)"
      ],
      "metadata": {
        "colab": {
          "base_uri": "https://localhost:8080/",
          "height": 818
        },
        "id": "Zrg7V1MPXddh",
        "outputId": "b33eb022-5c4d-4895-c461-2e252b88aa85"
      },
      "execution_count": 19,
      "outputs": [
        {
          "output_type": "display_data",
          "data": {
            "text/plain": [
              "<Figure size 1440x720 with 1 Axes>"
            ],
            "image/png": "[encoded data removed]"
          },
          "metadata": {
            "needs_background": "light"
          }
        },
        {
          "output_type": "display_data",
          "data": {
            "text/plain": [
              "<Figure size 432x288 with 1 Axes>"
            ],
            "image/png": "[encoded data removed]"
          },
          "metadata": {
            "needs_background": "light"
          }
        }
      ]
    }
  ]
}