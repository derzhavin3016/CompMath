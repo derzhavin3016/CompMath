{
  "nbformat": 4,
  "nbformat_minor": 0,
  "metadata": {
    "colab": {
      "name": "Копия блокнота \"Lab2.ipynb\"",
      "provenance": [],
      "collapsed_sections": [],
      "authorship_tag": "ABX9TyMzod8fYbSmim+YYjq9U9n0",
      "include_colab_link": true
    },
    "kernelspec": {
      "name": "python3",
      "display_name": "Python 3"
    },
    "language_info": {
      "name": "python"
    }
  },
  "cells": [
    {
      "cell_type": "markdown",
      "metadata": {
        "id": "view-in-github",
        "colab_type": "text"
      },
      "source": [
        "<a href=\"https://colab.research.google.com/github/derzhavin3016/CompMath/blob/master/Lab2/Lab2.ipynb\" target=\"_parent\"><img src=\"https://colab.research.google.com/assets/colab-badge.svg\" alt=\"Open In Colab\"/></a>"
      ]
    },
    {
      "cell_type": "markdown",
      "metadata": {
        "id": "d6ndWJPxwsva"
      },
      "source": [
        "# Домашняя лабораторная работа №2 по вычислительной математике\n",
        "Державин Андрей, Б01-909 группа\n"
      ]
    },
    {
      "cell_type": "markdown",
      "metadata": {
        "id": "oVfq3kEZw6mP"
      },
      "source": [
        "Задача II.10.6 (к)\n",
        "\n",
        "$$\n",
        "  \\left\\lbrace\n",
        "  \\begin{matrix}\n",
        "    a_{11} x_1 + a_{12} x_2 + \\dots + a_{1n} x_n &= &f_1 \\\\\n",
        "    \\dots  &\\dots   &\\dots \\\\\n",
        "    a_{n1} x_1 + a_{n2} x_2 + \\dots + a_{nn} x_n &= &f_n\n",
        "  \\end{matrix}\n",
        "  \\right. ,\n",
        "$$\n",
        "где\n",
        "$$\n",
        "n = 10, \\: \n",
        "a_{ii} = 1, \\: \n",
        "a_{ij} = \\frac{1}{i + j} (i \\neq j), \\:\n",
        "f_i = \\frac{1}{i} \n",
        "$$"
      ]
    },
    {
      "cell_type": "code",
      "metadata": {
        "id": "qmD0SUmowMxu"
      },
      "source": [
        "import numpy as np\n",
        "from numpy import linalg as ling"
      ],
      "execution_count": 7,
      "outputs": []
    },
    {
      "cell_type": "markdown",
      "metadata": {
        "id": "c2dCoEaiS7ho"
      },
      "source": [
        "Определяем константы: размер матрицы и погрешность (для сравнения чисел с 0)"
      ]
    },
    {
      "cell_type": "code",
      "metadata": {
        "id": "t_UGXUwqwdcB"
      },
      "source": [
        "SIZE = 10\n",
        "ACCURACY = 1e-10"
      ],
      "execution_count": 8,
      "outputs": []
    },
    {
      "cell_type": "markdown",
      "metadata": {
        "id": "eWVVMGYkTCK5"
      },
      "source": [
        "Функция сравнения числа с нулём с учётом погрешности"
      ]
    },
    {
      "cell_type": "code",
      "metadata": {
        "id": "cpZRcGdLDsqK"
      },
      "source": [
        "def is_zero(num: float):\n",
        "  return abs(num) < ACCURACY"
      ],
      "execution_count": 9,
      "outputs": []
    },
    {
      "cell_type": "markdown",
      "metadata": {
        "id": "COa_nPNhTGuK"
      },
      "source": [
        "Функция нахождения срочки в матрице, в которой в столбце `idx` стоит ненулеове число"
      ]
    },
    {
      "cell_type": "code",
      "metadata": {
        "id": "vKHfN6shEdmt"
      },
      "source": [
        "def find_non_zero(arr, col_idx):\n",
        "  for i in range(col_idx + 1, SIZE):\n",
        "    if not is_zero(arr[i][col_idx]):\n",
        "      return col_idx\n",
        "  return -1"
      ],
      "execution_count": 10,
      "outputs": []
    },
    {
      "cell_type": "markdown",
      "metadata": {
        "id": "xJuXfj8fTQLT"
      },
      "source": [
        "Функция приведения к диагональному виду (прямой ход Гаусса)"
      ]
    },
    {
      "cell_type": "code",
      "metadata": {
        "id": "l60ufHLnDGWc"
      },
      "source": [
        "def to_diag(matr):\n",
        "  for i in range(SIZE - 1):\n",
        "    if is_zero(matr[i][i]):\n",
        "      non_z_line = find_non_zero(matr, i)\n",
        "      if non_z_line == -1:\n",
        "        raise ValueError(\"Invalid Matrix\")\n",
        "      # swap rows\n",
        "      matr[[i, non_z_line]] = matr[[non_z_line, i]]\n",
        "\n",
        "    div = matr[i][i]\n",
        "    for j in range(i + 1, SIZE):\n",
        "      matr[j] += (-matr[j][i] / div) * matr[i] "
      ],
      "execution_count": 11,
      "outputs": []
    },
    {
      "cell_type": "markdown",
      "metadata": {
        "id": "ygsIHgEaTVlZ"
      },
      "source": [
        "Вспомогательные функции:\n",
        "1. `zero_small` - замена всех малых чисел на 0\n",
        "1. `arr_print` - распечатать матрицу в красивом виде"
      ]
    },
    {
      "cell_type": "code",
      "metadata": {
        "id": "eL-m345cGo4Y"
      },
      "source": [
        "def zero_small(matr):\n",
        "  for i in range(matr.shape[0]):\n",
        "    for j in range(matr.shape[1]):\n",
        "      if is_zero(matr[i][j]):\n",
        "        matr[i][j] = 0\n",
        "def arr_print(matr):\n",
        "  for row in matr:\n",
        "    for elem in row:\n",
        "      print(f\"{elem} \", end=\"\")\n",
        "    print()\n"
      ],
      "execution_count": 12,
      "outputs": []
    },
    {
      "cell_type": "markdown",
      "metadata": {
        "id": "u7QqxlB6TwQe"
      },
      "source": [
        "Функция обратного хода Гаусса, возвращает столбец решений"
      ]
    },
    {
      "cell_type": "code",
      "metadata": {
        "id": "YLIqs8JBJ2HL"
      },
      "source": [
        "def rev_hod(matr):\n",
        "  sz = matr.shape[0]\n",
        "  sol = np.zeros((sz, 1))\n",
        "  sol[sz - 1][0] = matr[sz - 1][sz] / matr[sz - 1][sz - 1]\n",
        "  for i in range(sz - 2, -1, -1):\n",
        "    sum = 0\n",
        "    for j in range(i + 1, sz):\n",
        "      sum += matr[i][j] * sol[j][0]\n",
        "    sol[i][0] = (matr[i][sz] - sum) / matr[i][i]\n",
        "  return sol"
      ],
      "execution_count": 13,
      "outputs": []
    },
    {
      "cell_type": "markdown",
      "metadata": {
        "id": "r2-g6yMqTzUc"
      },
      "source": [
        "Основная программа:\n",
        "1. Заполенение матрицы $A$ и столбца $f$\n",
        "1. \"Приклеивание\" к матрице столбца\n",
        "1. Выполнение прямого и обратного ходов\n",
        "1. Печать вектора решений"
      ]
    },
    {
      "cell_type": "code",
      "metadata": {
        "colab": {
          "base_uri": "https://localhost:8080/"
        },
        "id": "sbGC8emPHebA",
        "outputId": "b4f81baa-e591-4a0e-fb22-b31c31c29800"
      },
      "source": [
        "A = np.ones((SIZE, SIZE))\n",
        "for i in range(SIZE):\n",
        "  for j in range(SIZE):\n",
        "    if i != j:\n",
        "      A[i][j] = 1 / (i + j + 2)\n",
        "f = np.array([[1 / i for i in range(1, SIZE + 1)]]).transpose()\n",
        "Asys = np.hstack((A, f))\n",
        "to_diag(Asys)\n",
        "#zero_small(Asys) # set all small numbers to zero (< 1e-10)\n",
        "#arr_print(Asys)\n",
        "sol = rev_hod(Asys)\n",
        "print(sol)"
      ],
      "execution_count": 14,
      "outputs": [
        {
          "output_type": "stream",
          "name": "stdout",
          "text": [
            "[[ 9.19077109e-01]\n",
            " [ 1.75540170e-01]\n",
            " [ 6.39348240e-02]\n",
            " [ 2.72747640e-02]\n",
            " [ 1.14234685e-02]\n",
            " [ 3.51083928e-03]\n",
            " [-7.89957814e-04]\n",
            " [-3.25080145e-03]\n",
            " [-4.69787781e-03]\n",
            " [-5.55373994e-03]]\n"
          ]
        }
      ]
    },
    {
      "cell_type": "markdown",
      "metadata": {
        "id": "tuP836uyUUtB"
      },
      "source": [
        "Сравнение решения с решением из `numpy`, вывод вектора разности.\n",
        "Можно заметить, что различия крайне малы, что говорит о верной реализации алгоритма"
      ]
    },
    {
      "cell_type": "code",
      "metadata": {
        "colab": {
          "base_uri": "https://localhost:8080/"
        },
        "id": "VhItk4YjJTuA",
        "outputId": "d9dc0a33-01a1-466f-8e9d-4bec82fda455"
      },
      "source": [
        "diff  = (np.linalg.solve(A, f) - sol)\n",
        "diff"
      ],
      "execution_count": 15,
      "outputs": [
        {
          "output_type": "execute_result",
          "data": {
            "text/plain": [
              "array([[ 2.22044605e-16],\n",
              "       [-2.77555756e-17],\n",
              "       [-1.38777878e-17],\n",
              "       [ 0.00000000e+00],\n",
              "       [ 1.73472348e-18],\n",
              "       [ 3.46944695e-18],\n",
              "       [ 1.95156391e-18],\n",
              "       [-4.33680869e-19],\n",
              "       [ 0.00000000e+00],\n",
              "       [ 0.00000000e+00]])"
            ]
          },
          "metadata": {},
          "execution_count": 15
        }
      ]
    },
    {
      "cell_type": "markdown",
      "metadata": {
        "id": "7IZ5aK0sGlBT"
      },
      "source": [
        "Функции для подсчёта норм"
      ]
    },
    {
      "cell_type": "code",
      "metadata": {
        "id": "iKGst_9b-DEP"
      },
      "source": [
        "def norm_1(matr):\n",
        "  max_s = 0\n",
        "  rows, cols = matr.shape\n",
        "  for j in range(cols):\n",
        "    sum = 0\n",
        "    for i in range(rows):\n",
        "      sum += abs(matr[i][j])\n",
        "    max_s = max(sum, max_s)\n",
        "\n",
        "  return max_s\n",
        "\n",
        "def norm_2(matr):\n",
        "  rows, cols = matr.shape\n",
        "  max_s = 0\n",
        "  for i in range(rows):\n",
        "    max_s = max(sum(abs(matr[i])), max_s)\n",
        "\n",
        "  return max_s\n",
        "\n",
        "def norm_3(matr):\n",
        "  return np.sqrt(max(abs(np.linalg.eigvals(np.dot(A, A.transpose())))))"
      ],
      "execution_count": 47,
      "outputs": []
    },
    {
      "cell_type": "markdown",
      "metadata": {
        "id": "B6-ysmu6Gdqm"
      },
      "source": [
        "Подсчёт обсуловленности через 3 разные нормы"
      ]
    },
    {
      "cell_type": "code",
      "metadata": {
        "colab": {
          "base_uri": "https://localhost:8080/"
        },
        "id": "giZHAS5M8wlF",
        "outputId": "af328810-2f5a-4e22-a3bd-0b03f80c7863"
      },
      "source": [
        "Ainv = np.linalg.inv(A)\n",
        "mus = [\n",
        "    norm_1(A) * norm_1(Ainv),\n",
        "    norm_2(A) * norm_2(Ainv),\n",
        "    norm_3(A) * norm_3(Ainv)\n",
        "]\n",
        "for i, elem in enumerate(mus):\n",
        "  print(f\"mu_{i} = {elem}\")"
      ],
      "execution_count": 48,
      "outputs": [
        {
          "output_type": "stream",
          "name": "stdout",
          "text": [
            "mu_0 = 5.6336089382284005\n",
            "mu_1 = 5.6336089382284005\n",
            "mu_2 = 4.195778390447048\n"
          ]
        }
      ]
    },
    {
      "cell_type": "code",
      "metadata": {
        "colab": {
          "base_uri": "https://localhost:8080/"
        },
        "id": "P4umkmTcCLWO",
        "outputId": "f08b3495-6a2d-4ca7-a472-07c7d0e1640e"
      },
      "source": [
        ""
      ],
      "execution_count": 38,
      "outputs": [
        {
          "output_type": "execute_result",
          "data": {
            "text/plain": [
              "array([[1.        , 0.33333333, 0.25      , 0.2       , 0.16666667,\n",
              "        0.14285714, 0.125     , 0.11111111, 0.1       , 0.09090909],\n",
              "       [0.33333333, 1.        , 0.2       , 0.16666667, 0.14285714,\n",
              "        0.125     , 0.11111111, 0.1       , 0.09090909, 0.08333333],\n",
              "       [0.25      , 0.2       , 1.        , 0.14285714, 0.125     ,\n",
              "        0.11111111, 0.1       , 0.09090909, 0.08333333, 0.07692308],\n",
              "       [0.2       , 0.16666667, 0.14285714, 1.        , 0.11111111,\n",
              "        0.1       , 0.09090909, 0.08333333, 0.07692308, 0.07142857],\n",
              "       [0.16666667, 0.14285714, 0.125     , 0.11111111, 1.        ,\n",
              "        0.09090909, 0.08333333, 0.07692308, 0.07142857, 0.06666667],\n",
              "       [0.14285714, 0.125     , 0.11111111, 0.1       , 0.09090909,\n",
              "        1.        , 0.07692308, 0.07142857, 0.06666667, 0.0625    ],\n",
              "       [0.125     , 0.11111111, 0.1       , 0.09090909, 0.08333333,\n",
              "        0.07692308, 1.        , 0.06666667, 0.0625    , 0.05882353],\n",
              "       [0.11111111, 0.1       , 0.09090909, 0.08333333, 0.07692308,\n",
              "        0.07142857, 0.06666667, 1.        , 0.05882353, 0.05555556],\n",
              "       [0.1       , 0.09090909, 0.08333333, 0.07692308, 0.07142857,\n",
              "        0.06666667, 0.0625    , 0.05882353, 1.        , 0.05263158],\n",
              "       [0.09090909, 0.08333333, 0.07692308, 0.07142857, 0.06666667,\n",
              "        0.0625    , 0.05882353, 0.05555556, 0.05263158, 1.        ]])"
            ]
          },
          "metadata": {},
          "execution_count": 38
        }
      ]
    }
  ]
}