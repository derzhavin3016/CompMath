{
  "nbformat": 4,
  "nbformat_minor": 0,
  "metadata": {
    "colab": {
      "name": "Lab2.ipynb",
      "provenance": [],
      "collapsed_sections": [],
      "authorship_tag": "ABX9TyNfy8o2xoRsYqrn53JwLiZg",
      "include_colab_link": true
    },
    "kernelspec": {
      "name": "python3",
      "display_name": "Python 3"
    },
    "language_info": {
      "name": "python"
    }
  },
  "cells": [
    {
      "cell_type": "markdown",
      "metadata": {
        "id": "view-in-github",
        "colab_type": "text"
      },
      "source": [
        "<a href=\"https://colab.research.google.com/github/derzhavin3016/CompMath/blob/master/Lab2/Lab2.ipynb\" target=\"_parent\"><img src=\"https://colab.research.google.com/assets/colab-badge.svg\" alt=\"Open In Colab\"/></a>"
      ]
    },
    {
      "cell_type": "markdown",
      "metadata": {
        "id": "d6ndWJPxwsva"
      },
      "source": [
        "# Домашняя лабораторная работа №2 по вычислительной математике\n",
        "Державин Андрей, Б01-909 группа\n"
      ]
    },
    {
      "cell_type": "markdown",
      "metadata": {
        "id": "oVfq3kEZw6mP"
      },
      "source": [
        "Задача II.10.6 (к)\n",
        "\n",
        "$$\n",
        "  \\left\\lbrace\n",
        "  \\begin{matrix}\n",
        "    a_{11} x_1 + a_{12} x_2 + \\dots + a_{1n} x_n &= &f_1 \\\\\n",
        "    \\dots  &\\dots   &\\dots \\\\\n",
        "    a_{n1} x_1 + a_{n2} x_2 + \\dots + a_{nn} x_n &= &f_n\n",
        "  \\end{matrix}\n",
        "  \\right. ,\n",
        "$$\n",
        "где\n",
        "$$\n",
        "n = 10, \\: \n",
        "a_{ii} = 1, \\: \n",
        "a_{ij} = \\frac{1}{i + j} (i \\neq j), \\:\n",
        "f_i = \\frac{1}{i} \n",
        "$$"
      ]
    },
    {
      "cell_type": "code",
      "metadata": {
        "id": "qmD0SUmowMxu"
      },
      "source": [
        "import numpy as np\n",
        "from numpy import linalg as ling"
      ],
      "execution_count": 2,
      "outputs": []
    },
    {
      "cell_type": "markdown",
      "metadata": {
        "id": "c2dCoEaiS7ho"
      },
      "source": [
        "Определяем константы: размер матрицы и погрешность (для сравнения чисел с 0)"
      ]
    },
    {
      "cell_type": "code",
      "metadata": {
        "id": "t_UGXUwqwdcB"
      },
      "source": [
        "SIZE = 10\n",
        "ACCURACY = 1e-10"
      ],
      "execution_count": 60,
      "outputs": []
    },
    {
      "cell_type": "markdown",
      "metadata": {
        "id": "eWVVMGYkTCK5"
      },
      "source": [
        "Функция сравнения числа с нулём с учётом погрешности"
      ]
    },
    {
      "cell_type": "code",
      "metadata": {
        "id": "cpZRcGdLDsqK"
      },
      "source": [
        "def is_zero(num: float):\n",
        "  return abs(num) < ACCURACY"
      ],
      "execution_count": 61,
      "outputs": []
    },
    {
      "cell_type": "markdown",
      "metadata": {
        "id": "COa_nPNhTGuK"
      },
      "source": [
        "Функция нахождения срочки в матрице, в которой в столбце `idx` стоит ненулеове число"
      ]
    },
    {
      "cell_type": "code",
      "metadata": {
        "id": "vKHfN6shEdmt"
      },
      "source": [
        "def find_non_zero(arr, col_idx):\n",
        "  for i in range(col_idx + 1, SIZE):\n",
        "    if not is_zero(arr[i][col_idx]):\n",
        "      return col_idx\n",
        "  return -1"
      ],
      "execution_count": 27,
      "outputs": []
    },
    {
      "cell_type": "markdown",
      "metadata": {
        "id": "xJuXfj8fTQLT"
      },
      "source": [
        "Функция приведения к диагональному виду (прямой ход Гаусса)"
      ]
    },
    {
      "cell_type": "code",
      "metadata": {
        "id": "l60ufHLnDGWc"
      },
      "source": [
        "def to_diag(matr):\n",
        "  for i in range(SIZE - 1):\n",
        "    if is_zero(matr[i][i]):\n",
        "      non_z_line = find_non_zero(matr, i)\n",
        "      if non_z_line == -1:\n",
        "        raise ValueError(\"Invalid Matrix\")\n",
        "      # swap rows\n",
        "      matr[[i, non_z_line]] = matr[[non_z_line, i]]\n",
        "\n",
        "    div = matr[i][i]\n",
        "    for j in range(i + 1, SIZE):\n",
        "      matr[j] += (-matr[j][i] / div) * matr[i] "
      ],
      "execution_count": 39,
      "outputs": []
    },
    {
      "cell_type": "markdown",
      "metadata": {
        "id": "ygsIHgEaTVlZ"
      },
      "source": [
        "Вспомогательные функции:\n",
        "1. `zero_small` - замена всех малых чисел на 0\n",
        "1. `arr_print` - распечатать матрицу в красивом виде"
      ]
    },
    {
      "cell_type": "code",
      "metadata": {
        "id": "eL-m345cGo4Y"
      },
      "source": [
        "def zero_small(matr):\n",
        "  for i in range(matr.shape[0]):\n",
        "    for j in range(matr.shape[1]):\n",
        "      if is_zero(matr[i][j]):\n",
        "        matr[i][j] = 0\n",
        "def arr_print(matr):\n",
        "  for row in matr:\n",
        "    for elem in row:\n",
        "      print(f\"{elem} \", end=\"\")\n",
        "    print()\n"
      ],
      "execution_count": 57,
      "outputs": []
    },
    {
      "cell_type": "markdown",
      "metadata": {
        "id": "u7QqxlB6TwQe"
      },
      "source": [
        "Функция обратного хода Гаусса, возвращает столбец решений"
      ]
    },
    {
      "cell_type": "code",
      "metadata": {
        "id": "YLIqs8JBJ2HL"
      },
      "source": [
        "def rev_hod(matr):\n",
        "  sz = matr.shape[0]\n",
        "  sol = np.zeros((sz, 1))\n",
        "  sol[sz - 1][0] = matr[sz - 1][sz] / matr[sz - 1][sz - 1]\n",
        "  for i in range(sz - 2, -1, -1):\n",
        "    sum = 0\n",
        "    for j in range(i + 1, sz):\n",
        "      sum += matr[i][j] * sol[j][0]\n",
        "    sol[i][0] = (matr[i][sz] - sum) / matr[i][i]\n",
        "  return sol"
      ],
      "execution_count": 90,
      "outputs": []
    },
    {
      "cell_type": "markdown",
      "metadata": {
        "id": "r2-g6yMqTzUc"
      },
      "source": [
        "Основная программа:\n",
        "1. Заполенение матрицы $A$ и столбца $f$\n",
        "1. \"Приклеивание\" к матрице столбца\n",
        "1. Выполнение прямого и обратного ходов\n",
        "1. Печать вектора решений"
      ]
    },
    {
      "cell_type": "code",
      "metadata": {
        "colab": {
          "base_uri": "https://localhost:8080/"
        },
        "id": "sbGC8emPHebA",
        "outputId": "ff099baf-39ed-4e6b-c538-0b24a7b71cf8"
      },
      "source": [
        "A = np.ones((SIZE, SIZE))\n",
        "for i in range(SIZE):\n",
        "  for j in range(SIZE):\n",
        "    if i != j:\n",
        "      A[i][j] = 1 / (i + j + 2)\n",
        "f = np.array([[1 / i for i in range(1, SIZE + 1)]]).transpose()\n",
        "Asys = np.hstack((A, f))\n",
        "to_diag(Asys)\n",
        "#zero_small(Asys) # set all small numbers to zero (< 1e-10)\n",
        "#arr_print(Asys)\n",
        "sol = rev_hod(Asys)\n",
        "print(sol)"
      ],
      "execution_count": 91,
      "outputs": [
        {
          "output_type": "stream",
          "name": "stdout",
          "text": [
            "[[ 9.19077109e-01]\n",
            " [ 1.75540170e-01]\n",
            " [ 6.39348240e-02]\n",
            " [ 2.72747640e-02]\n",
            " [ 1.14234685e-02]\n",
            " [ 3.51083928e-03]\n",
            " [-7.89957814e-04]\n",
            " [-3.25080145e-03]\n",
            " [-4.69787781e-03]\n",
            " [-5.55373994e-03]]\n"
          ]
        }
      ]
    },
    {
      "cell_type": "markdown",
      "metadata": {
        "id": "tuP836uyUUtB"
      },
      "source": [
        "Сравнение решения с решением из `numpy`, вывод вектора разности.\n",
        "Можно заметить, что различия крайне малы, что говорит о верной реализации алгоритма"
      ]
    },
    {
      "cell_type": "code",
      "metadata": {
        "colab": {
          "base_uri": "https://localhost:8080/"
        },
        "id": "VhItk4YjJTuA",
        "outputId": "cd15a04b-d5dc-4bdc-8c17-fd42f30cc8f6"
      },
      "source": [
        "diff  = (np.linalg.solve(A, f) - sol)\n",
        "diff"
      ],
      "execution_count": 94,
      "outputs": [
        {
          "output_type": "execute_result",
          "data": {
            "text/plain": [
              "array([[ 2.22044605e-16],\n",
              "       [-2.77555756e-17],\n",
              "       [-1.38777878e-17],\n",
              "       [ 0.00000000e+00],\n",
              "       [ 1.73472348e-18],\n",
              "       [ 3.46944695e-18],\n",
              "       [ 1.95156391e-18],\n",
              "       [-4.33680869e-19],\n",
              "       [ 0.00000000e+00],\n",
              "       [ 0.00000000e+00]])"
            ]
          },
          "metadata": {},
          "execution_count": 94
        }
      ]
    }
  ]
}