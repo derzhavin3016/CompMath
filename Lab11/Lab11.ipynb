{
  "nbformat": 4,
  "nbformat_minor": 0,
  "metadata": {
    "colab": {
      "name": "Lab11.ipynb",
      "provenance": [],
      "authorship_tag": "ABX9TyNJF/EpBKVXOLBC1NsoaQa1",
      "include_colab_link": true
    },
    "kernelspec": {
      "name": "python3",
      "display_name": "Python 3"
    },
    "language_info": {
      "name": "python"
    }
  },
  "cells": [
    {
      "cell_type": "markdown",
      "metadata": {
        "id": "view-in-github",
        "colab_type": "text"
      },
      "source": [
        "<a href=\"https://colab.research.google.com/github/derzhavin3016/CompMath/blob/master/Lab11/Lab11.ipynb\" target=\"_parent\"><img src=\"https://colab.research.google.com/assets/colab-badge.svg\" alt=\"Open In Colab\"/></a>"
      ]
    },
    {
      "cell_type": "code",
      "execution_count": null,
      "metadata": {
        "id": "uEcgcKz3SrEq"
      },
      "outputs": [],
      "source": [
        ""
      ]
    }
  ]
}