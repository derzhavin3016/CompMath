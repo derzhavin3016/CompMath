{
  "nbformat": 4,
  "nbformat_minor": 0,
  "metadata": {
    "colab": {
      "name": "Lab11.ipynb",
      "provenance": [],
      "authorship_tag": "ABX9TyOSQDo6bgSvph6dkdFVH6Ur",
      "include_colab_link": true
    },
    "kernelspec": {
      "name": "python3",
      "display_name": "Python 3"
    },
    "language_info": {
      "name": "python"
    }
  },
  "cells": [
    {
      "cell_type": "markdown",
      "metadata": {
        "id": "view-in-github",
        "colab_type": "text"
      },
      "source": [
        "<a href=\"https://colab.research.google.com/github/derzhavin3016/CompMath/blob/master/Lab11/Lab11.ipynb\" target=\"_parent\"><img src=\"https://colab.research.google.com/assets/colab-badge.svg\" alt=\"Open In Colab\"/></a>"
      ]
    },
    {
      "cell_type": "markdown",
      "source": [
        "#Домашняя лабораторная работа №11 по вычислительной математике"
      ],
      "metadata": {
        "id": "iGPC1DGAS1QL"
      }
    },
    {
      "cell_type": "markdown",
      "source": [
        "Державин Андрей, Б01-909"
      ],
      "metadata": {
        "id": "H_C5ivmBS7_P"
      }
    },
    {
      "cell_type": "markdown",
      "source": [
        "## Задача 2"
      ],
      "metadata": {
        "id": "B7gDwmjMS--k"
      }
    },
    {
      "cell_type": "markdown",
      "source": [
        "Дифференциальная задача\n",
        "$$\n",
        "\\left\\lbrace\n",
        "\\begin{matrix}\n",
        "\\dfrac{\\partial u}{\\partial t} &=& \\dfrac{\\partial}{\\partial x} \\left(u^2 \\dfrac{\\partial u}{\\partial x} \\right), & 0 < t \\leq 1, 0 < x < 1 \\\\\n",
        "u(0, x) &=& \\dfrac{1+x}{\\sqrt{5}}, & 0 \\leq x \\leq 1 \\\\\n",
        "u(t, 0) &=& \\dfrac{1}{\\sqrt{5 - 4t}}, & 0 < t \\leq 1 \\\\\n",
        "u(t, 1) &=& \\dfrac{2}{\\sqrt{5 - 4t}}, & 0 < t \\leq 1 \\\\\n",
        "\\end{matrix}\n",
        "\\right.\n",
        "$$"
      ],
      "metadata": {
        "id": "aRNt1YfiowxI"
      }
    },
    {
      "cell_type": "code",
      "execution_count": null,
      "metadata": {
        "id": "uEcgcKz3SrEq"
      },
      "outputs": [],
      "source": [
        "import numpy as np\n",
        "from matplotlib import pyplot as plt"
      ]
    }
  ]
}