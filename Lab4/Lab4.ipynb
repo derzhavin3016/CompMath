{
  "nbformat": 4,
  "nbformat_minor": 0,
  "metadata": {
    "colab": {
      "name": "Untitled1.ipynb",
      "provenance": [],
      "authorship_tag": "ABX9TyNhUumxl2yvNMntBU8ylKdp",
      "include_colab_link": true
    },
    "kernelspec": {
      "name": "python3",
      "display_name": "Python 3"
    },
    "language_info": {
      "name": "python"
    }
  },
  "cells": [
    {
      "cell_type": "markdown",
      "metadata": {
        "id": "view-in-github",
        "colab_type": "text"
      },
      "source": [
        "<a href=\"https://colab.research.google.com/github/derzhavin3016/CompMath/blob/master/Lab4/Lab4.ipynb\" target=\"_parent\"><img src=\"https://colab.research.google.com/assets/colab-badge.svg\" alt=\"Open In Colab\"/></a>"
      ]
    },
    {
      "cell_type": "markdown",
      "metadata": {
        "id": "PQXDdjCsh3BA"
      },
      "source": [
        "# Домашняя лабораторная работа №4 по вычислительной математике\n",
        "\n",
        "Державин Андрей, Б01-909 группа\n"
      ]
    },
    {
      "cell_type": "markdown",
      "metadata": {
        "id": "KKMXsJH5idaZ"
      },
      "source": [
        "## Задача __VI.9.32__"
      ]
    },
    {
      "cell_type": "markdown",
      "metadata": {
        "id": "yE9gNMc6idGd"
      },
      "source": [
        "### Метод Ньютона"
      ]
    },
    {
      "cell_type": "code",
      "metadata": {
        "id": "5RBDFvVyh1BC"
      },
      "source": [
        "import numpy as np\n",
        "import pandas as pd"
      ],
      "execution_count": 1,
      "outputs": []
    },
    {
      "cell_type": "code",
      "metadata": {
        "id": "m14L26w7iBDO"
      },
      "source": [
        "pUSA = {\n",
        "    1910: 92_228_496,\n",
        "    1920: 106_021_537,\n",
        "    1930: 123_202_624,\n",
        "    1940: 132_164_569,\n",
        "    1950: 151_325_798,\n",
        "    1960: 179_323_175,\n",
        "    1970: 203_211_926,\n",
        "    1980: 226_545_805,\n",
        "    1990: 248_709_873,\n",
        "    2000: 281_421_906\n",
        "}\n",
        "\n",
        "years = list(pUSA.keys())\n",
        "pop = list(pUSA.values())\n",
        "\n",
        "pop2010 = 308_745_538"
      ],
      "execution_count": 2,
      "outputs": []
    },
    {
      "cell_type": "code",
      "metadata": {
        "colab": {
          "base_uri": "https://localhost:8080/",
          "height": 363
        },
        "id": "AOiyQTYeiGIX",
        "outputId": "959f1f9d-77e6-4b4f-a54f-c2fa735da628"
      },
      "source": [
        "def fillB(x, f):\n",
        "  assert len(x) == len(f), 'x and f are not equal!!'\n",
        "  b = [[0] * (len(f) - i) for i in range(len(f))]\n",
        "\n",
        "  for i, _ in enumerate(f):\n",
        "    if i == 0:\n",
        "      for j in range(len(f)):\n",
        "        b[0][j] = f[j]\n",
        "    else:\n",
        "      for j in range(len(b[i])):\n",
        "        bi1 = b[i - 1]\n",
        "        b[i][j] = (bi1[j + 1] - bi1[j]) / (x[j + i] - x[j])\n",
        "  return b\n",
        "\n",
        "b = fillB(years, pop)\n",
        "\n",
        "df = pd.DataFrame(data=b, index=[f'b{i}' for i in range(len(b))])\n",
        "df = df.transpose()\n",
        "df['x'] = years\n",
        "cols = list(df.columns)\n",
        "cols = cols[10:] + cols[:10]\n",
        "df = df.reindex(columns=cols)\n",
        "df"
      ],
      "execution_count": 3,
      "outputs": [
        {
          "output_type": "execute_result",
          "data": {
            "text/html": [
              "<div>\n",
              "<style scoped>\n",
              "    .dataframe tbody tr th:only-of-type {\n",
              "        vertical-align: middle;\n",
              "    }\n",
              "\n",
              "    .dataframe tbody tr th {\n",
              "        vertical-align: top;\n",
              "    }\n",
              "\n",
              "    .dataframe thead th {\n",
              "        text-align: right;\n",
              "    }\n",
              "</style>\n",
              "<table border=\"1\" class=\"dataframe\">\n",
              "  <thead>\n",
              "    <tr style=\"text-align: right;\">\n",
              "      <th></th>\n",
              "      <th>x</th>\n",
              "      <th>b0</th>\n",
              "      <th>b1</th>\n",
              "      <th>b2</th>\n",
              "      <th>b3</th>\n",
              "      <th>b4</th>\n",
              "      <th>b5</th>\n",
              "      <th>b6</th>\n",
              "      <th>b7</th>\n",
              "      <th>b8</th>\n",
              "      <th>b9</th>\n",
              "    </tr>\n",
              "  </thead>\n",
              "  <tbody>\n",
              "    <tr>\n",
              "      <th>0</th>\n",
              "      <td>1910</td>\n",
              "      <td>92228496.0</td>\n",
              "      <td>1379304.1</td>\n",
              "      <td>16940.230</td>\n",
              "      <td>-1934.531333</td>\n",
              "      <td>125.106725</td>\n",
              "      <td>-4.150598</td>\n",
              "      <td>0.080565</td>\n",
              "      <td>-0.000756</td>\n",
              "      <td>-0.000008</td>\n",
              "      <td>5.099328e-07</td>\n",
              "    </tr>\n",
              "    <tr>\n",
              "      <th>1</th>\n",
              "      <td>1920</td>\n",
              "      <td>106021537.0</td>\n",
              "      <td>1718108.7</td>\n",
              "      <td>-41095.710</td>\n",
              "      <td>3069.737667</td>\n",
              "      <td>-82.423175</td>\n",
              "      <td>0.683327</td>\n",
              "      <td>0.027611</td>\n",
              "      <td>-0.001362</td>\n",
              "      <td>0.000038</td>\n",
              "      <td>NaN</td>\n",
              "    </tr>\n",
              "    <tr>\n",
              "      <th>2</th>\n",
              "      <td>1930</td>\n",
              "      <td>123202624.0</td>\n",
              "      <td>896194.5</td>\n",
              "      <td>50996.420</td>\n",
              "      <td>-227.189333</td>\n",
              "      <td>-48.256825</td>\n",
              "      <td>2.340014</td>\n",
              "      <td>-0.067705</td>\n",
              "      <td>0.001705</td>\n",
              "      <td>NaN</td>\n",
              "      <td>NaN</td>\n",
              "    </tr>\n",
              "    <tr>\n",
              "      <th>3</th>\n",
              "      <td>1940</td>\n",
              "      <td>132164569.0</td>\n",
              "      <td>1916122.9</td>\n",
              "      <td>44180.740</td>\n",
              "      <td>-2157.462333</td>\n",
              "      <td>68.743867</td>\n",
              "      <td>-1.722268</td>\n",
              "      <td>0.051623</td>\n",
              "      <td>NaN</td>\n",
              "      <td>NaN</td>\n",
              "      <td>NaN</td>\n",
              "    </tr>\n",
              "    <tr>\n",
              "      <th>4</th>\n",
              "      <td>1950</td>\n",
              "      <td>151325798.0</td>\n",
              "      <td>2799737.7</td>\n",
              "      <td>-20543.130</td>\n",
              "      <td>592.292333</td>\n",
              "      <td>-17.369554</td>\n",
              "      <td>1.375117</td>\n",
              "      <td>NaN</td>\n",
              "      <td>NaN</td>\n",
              "      <td>NaN</td>\n",
              "      <td>NaN</td>\n",
              "    </tr>\n",
              "    <tr>\n",
              "      <th>5</th>\n",
              "      <td>1960</td>\n",
              "      <td>179323175.0</td>\n",
              "      <td>2388875.1</td>\n",
              "      <td>-2774.360</td>\n",
              "      <td>-102.489833</td>\n",
              "      <td>51.386312</td>\n",
              "      <td>NaN</td>\n",
              "      <td>NaN</td>\n",
              "      <td>NaN</td>\n",
              "      <td>NaN</td>\n",
              "      <td>NaN</td>\n",
              "    </tr>\n",
              "    <tr>\n",
              "      <th>6</th>\n",
              "      <td>1970</td>\n",
              "      <td>203211926.0</td>\n",
              "      <td>2333387.9</td>\n",
              "      <td>-5849.055</td>\n",
              "      <td>1952.962667</td>\n",
              "      <td>NaN</td>\n",
              "      <td>NaN</td>\n",
              "      <td>NaN</td>\n",
              "      <td>NaN</td>\n",
              "      <td>NaN</td>\n",
              "      <td>NaN</td>\n",
              "    </tr>\n",
              "    <tr>\n",
              "      <th>7</th>\n",
              "      <td>1980</td>\n",
              "      <td>226545805.0</td>\n",
              "      <td>2216406.8</td>\n",
              "      <td>52739.825</td>\n",
              "      <td>NaN</td>\n",
              "      <td>NaN</td>\n",
              "      <td>NaN</td>\n",
              "      <td>NaN</td>\n",
              "      <td>NaN</td>\n",
              "      <td>NaN</td>\n",
              "      <td>NaN</td>\n",
              "    </tr>\n",
              "    <tr>\n",
              "      <th>8</th>\n",
              "      <td>1990</td>\n",
              "      <td>248709873.0</td>\n",
              "      <td>3271203.3</td>\n",
              "      <td>NaN</td>\n",
              "      <td>NaN</td>\n",
              "      <td>NaN</td>\n",
              "      <td>NaN</td>\n",
              "      <td>NaN</td>\n",
              "      <td>NaN</td>\n",
              "      <td>NaN</td>\n",
              "      <td>NaN</td>\n",
              "    </tr>\n",
              "    <tr>\n",
              "      <th>9</th>\n",
              "      <td>2000</td>\n",
              "      <td>281421906.0</td>\n",
              "      <td>NaN</td>\n",
              "      <td>NaN</td>\n",
              "      <td>NaN</td>\n",
              "      <td>NaN</td>\n",
              "      <td>NaN</td>\n",
              "      <td>NaN</td>\n",
              "      <td>NaN</td>\n",
              "      <td>NaN</td>\n",
              "      <td>NaN</td>\n",
              "    </tr>\n",
              "  </tbody>\n",
              "</table>\n",
              "</div>"
            ],
            "text/plain": [
              "      x           b0         b1  ...        b7        b8            b9\n",
              "0  1910   92228496.0  1379304.1  ... -0.000756 -0.000008  5.099328e-07\n",
              "1  1920  106021537.0  1718108.7  ... -0.001362  0.000038           NaN\n",
              "2  1930  123202624.0   896194.5  ...  0.001705       NaN           NaN\n",
              "3  1940  132164569.0  1916122.9  ...       NaN       NaN           NaN\n",
              "4  1950  151325798.0  2799737.7  ...       NaN       NaN           NaN\n",
              "5  1960  179323175.0  2388875.1  ...       NaN       NaN           NaN\n",
              "6  1970  203211926.0  2333387.9  ...       NaN       NaN           NaN\n",
              "7  1980  226545805.0  2216406.8  ...       NaN       NaN           NaN\n",
              "8  1990  248709873.0  3271203.3  ...       NaN       NaN           NaN\n",
              "9  2000  281421906.0        NaN  ...       NaN       NaN           NaN\n",
              "\n",
              "[10 rows x 11 columns]"
            ]
          },
          "metadata": {},
          "execution_count": 3
        }
      ]
    },
    {
      "cell_type": "markdown",
      "metadata": {
        "id": "ZUx8Ff2NiM7A"
      },
      "source": [
        "Так как 2010 ближе к нижнему концу таблицы, возьмем нижние числа (нижняя диагональ)"
      ]
    },
    {
      "cell_type": "code",
      "metadata": {
        "colab": {
          "base_uri": "https://localhost:8080/"
        },
        "id": "5s1yNWxFiI99",
        "outputId": "76ded756-0251-48cc-af9d-e9eae75ff235"
      },
      "source": [
        "n_coeffs = [bi[-1] for bi in b]\n",
        "n_coeffs\n",
        "\n",
        "def Newt(x, data_x, cfs):\n",
        "  res = 0\n",
        "  for i, bi in enumerate(cfs):\n",
        "    mul = bi\n",
        "    for j in range(i):\n",
        "      mul *= x - data_x[len(data_x) - j - 1]\n",
        "    res += mul\n",
        "  return res\n",
        "\n",
        "prog = int(Newt(2010, years, n_coeffs))\n",
        "print(f'Прогноз = {prog}')\n",
        "print(f'Delta = {prog - pop2010}')"
      ],
      "execution_count": 10,
      "outputs": [
        {
          "output_type": "stream",
          "name": "stdout",
          "text": [
            "Прогноз = 827906509\n",
            "Delta = 519160971\n"
          ]
        }
      ]
    },
    {
      "cell_type": "markdown",
      "metadata": {
        "id": "Jjy60OXkiZ8f"
      },
      "source": [
        "### Метод сплайнов"
      ]
    },
    {
      "cell_type": "markdown",
      "metadata": {
        "id": "sjMfrMMkiU1m"
      },
      "source": [
        "\n",
        "Используем кубический сплайн вида \n",
        "$$S(x) = a_i + b_i (x- x_i) + \\frac{c_i}{2} (x-x_i)^2 +  \\frac{d_i}{6} (x-x_i)^3$$ Зададим граничные условия как \n",
        "$$\n",
        "f''(1910) = f''(2000) = 0\n",
        "$$"
      ]
    },
    {
      "cell_type": "code",
      "metadata": {
        "id": "oAZJBCWxikVH"
      },
      "source": [
        "from numpy.polynomial.polynomial import Polynomial as Poly\n",
        "from matplotlib import pyplot as plt"
      ],
      "execution_count": 8,
      "outputs": []
    },
    {
      "cell_type": "markdown",
      "metadata": {
        "id": "Iw_V0bkximZO"
      },
      "source": [
        "Нахождение коэффициентов сплайна осуществляется через коэффициенты $c_i$, являющимися решениями уравнения $Mx = f$, где\n",
        "$$\n",
        "M = \n",
        "\\left(\n",
        "\\begin{matrix}\n",
        "C_1 & B_1 & 0 & 0 & \\dots & 0 & 0\\\\\n",
        "A_2 & C_2 & B_2 & 0 & \\dots & 0 & 0\\\\\n",
        "0 & A_3 & C_3 & B_3 & \\dots & 0 & 0\\\\\n",
        "\\dots & \\dots & \\dots & \\dots & \\dots & \\dots & \\dots\\\\\n",
        "\\dots & \\dots & \\dots & \\dots & \\dots & \\dots & B_{n-1}\\\\\n",
        "C_1 & B_1 & 0 & 0 & \\dots & A_n & C_n\\\\\n",
        "\\end{matrix}\n",
        "\\right), где \\: n=8\n",
        "$$\n",
        "Граничные условия выражаются как $$c_0 = c_{10} = 0$$\n",
        "$$\n",
        "A_i = x_i - x_{i-1}, i = \\overline{2\\dots n}, \\: \\:\n",
        "B_i = x_{i+1} - x_{i}, i = \\overline{1\\dots n-1}, \\:\\:\n",
        "C_i = 2\\cdot\\left(x_{i+1} - x_{i-1}\\right), i = \\overline{1\\dots n}\n",
        "$$\n",
        "$$\n",
        "F_i = 6 \\cdot \\left(\n",
        "\\frac{y_{i+1} - y_i}{x_{i+1} - x_i} - \n",
        "\\frac{y_{i} - y_{i-1}}{x_{i} - x_{i-1}}\n",
        "\\right)\n",
        "$$"
      ]
    },
    {
      "cell_type": "code",
      "metadata": {
        "id": "Ns853HdXinHc"
      },
      "source": [
        "N = len(years) - 2\n",
        "M = np.zeros(shape=(N, N))\n",
        "for i in range(N):\n",
        "  if i != N - 1:\n",
        "    M[i][i + 1] = years[i + 2] - years[i + 1]\n",
        "  M[i][i] = 2 * (years[i + 2] - years[i])\n",
        "  if i != 0:\n",
        "    M[i][i - 1] = years[i + 1] - years[i]\n",
        "\n",
        "b_col = np.zeros(shape=(N, 1))\n",
        "for i, elem in enumerate(b_col):\n",
        "  h_i = years[i + 1] - years[i]\n",
        "  h_i1 = years[i + 2] - years[i + 1]\n",
        "  b_col[i] = 6 * ((pop[i + 2] - pop[i + 1]) / h_i1 - (pop[i + 1] - pop[i]) / h_i) "
      ],
      "execution_count": 5,
      "outputs": []
    },
    {
      "cell_type": "code",
      "metadata": {
        "id": "JNg4jGrUirnC"
      },
      "source": [
        "def run_through(matr, b):\n",
        "  # tun though coeffs\n",
        "  assert b.shape[0] == matr.shape[1], \"Ivalid sizes\"\n",
        "\n",
        "  sz = b.shape[0]\n",
        "  x = np.zeros(sz)\n",
        "  alpha = np.zeros(sz)\n",
        "  beta = np.zeros(sz)\n",
        "\n",
        "  c = matr[0][0]\n",
        "  alpha[0] = - matr[0][1] / c\n",
        "  beta[0] = b[0] / c\n",
        "\n",
        "  # direct  run through\n",
        "  for k in range(1, sz):\n",
        "    c = matr[k][k] + matr[k][k - 1] * alpha[k - 1]\n",
        "    if k != sz - 1: \n",
        "      alpha[k] = - matr[k][k + 1] / c\n",
        "    beta[k] = (b[k] - matr[k][k - 1] * beta[k - 1]) / c\n",
        "\n",
        "  x[-1] = beta[-1]\n",
        "\n",
        "  for k in range(sz - 2, -1, -1):\n",
        "    x[k] = alpha[k] * x[k + 1] + beta[k]\n",
        "  \n",
        "  return x\n",
        "\n",
        "coeffs = np.zeros(shape=(N + 1, 4))\n",
        "sol = run_through(M, b_col)\n",
        "\n",
        "for k, coef in enumerate(coeffs):\n",
        "  hk = years[k + 1] - years[k]\n",
        "  coef[0] = pop[k + 1]\n",
        "  ck = coef[2] = sol[k] / 2 if k < len(sol) else 0\n",
        "  ck_prev = coeffs[k - 1][2] if k != 0 else 0\n",
        "\n",
        "  coeffs[k][3] = (ck - ck_prev) / (3 * hk)\n",
        "  coeffs[k][1] = (pop[k + 1] - pop[k]) / hk + (2 * ck + ck_prev) * hk / 3\n",
        "\n",
        "polys = [Poly(cfs) for cfs in coeffs]"
      ],
      "execution_count": 6,
      "outputs": []
    },
    {
      "cell_type": "code",
      "metadata": {
        "colab": {
          "base_uri": "https://localhost:8080/",
          "height": 499
        },
        "id": "N7sKSNm7iu6l",
        "outputId": "81d48e5c-ebc9-4420-9768-861e38701126"
      },
      "source": [
        "plt.figure(figsize=[27, 8])\n",
        "Y = []\n",
        "X = []\n",
        "for i, pol in enumerate(polys):\n",
        "  z = np.linspace(-years[i + 1] + years[i], 0, num=20)\n",
        "  Y += list(pol(z))\n",
        "  X += list(np.linspace(years[i], years[i + 1], num=20))\n",
        "\n",
        "plt.title('Сравнение методов интерполяции')\n",
        "plt.plot(X, Y, label='Сплайн интерполяция')\n",
        "plt.plot(years, pop, 'o', label='Исходные данные')\n",
        "newton_y = [Newt(x, years, n_coeffs) for x in X]\n",
        "plt.plot(X, newton_y, '--r', label='Метод Ньютона')\n",
        "plt.legend()\n",
        "plt.grid()"
      ],
      "execution_count": 11,
      "outputs": [
        {
          "output_type": "display_data",
          "data": {
            "image/png": "[encoded data removed]",
            "text/plain": [
              "<Figure size 1944x576 with 1 Axes>"
            ]
          },
          "metadata": {
            "needs_background": "light"
          }
        }
      ]
    },
    {
      "cell_type": "code",
      "metadata": {
        "colab": {
          "base_uri": "https://localhost:8080/"
        },
        "id": "a4OOG4R4jEXH",
        "outputId": "a6549035-e65e-4c7d-a840-c94fe70032a7"
      },
      "source": [
        "calc2010 = polys[-1](2010 - 2000)\n",
        "print(f'Исходное значение за 2010: {pop2010}')\n",
        "print(f'Посчитанное методом сплайн за 2010: {calc2010}')\n",
        "print(f'Посчитанное методом Ньютона за 2010: {prog}')"
      ],
      "execution_count": 12,
      "outputs": [
        {
          "output_type": "stream",
          "name": "stdout",
          "text": [
            "Исходное значение за 2010: 308745538\n",
            "Посчитанное методом сплайн за 2010: 314133939.0\n",
            "Посчитанное методом Ньютона за 2010: 827906509\n"
          ]
        }
      ]
    },
    {
      "cell_type": "markdown",
      "metadata": {
        "id": "zN96xu3YjGIn"
      },
      "source": [
        "Как мы видим, при сплайн-интерполяции получено более точное приближение, чем при методе Ньютона"
      ]
    }
  ]
}