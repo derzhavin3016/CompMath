{
  "nbformat": 4,
  "nbformat_minor": 0,
  "metadata": {
    "colab": {
      "name": "Lab9.ipynb",
      "provenance": [],
      "collapsed_sections": [],
      "authorship_tag": "ABX9TyN4Q/MDnCo3KGpShZ/aBwtB",
      "include_colab_link": true
    },
    "kernelspec": {
      "name": "python3",
      "display_name": "Python 3"
    },
    "language_info": {
      "name": "python"
    }
  },
  "cells": [
    {
      "cell_type": "markdown",
      "metadata": {
        "id": "view-in-github",
        "colab_type": "text"
      },
      "source": [
        "<a href=\"https://colab.research.google.com/github/derzhavin3016/CompMath/blob/master/Lab9/Lab9.ipynb\" target=\"_parent\"><img src=\"https://colab.research.google.com/assets/colab-badge.svg\" alt=\"Open In Colab\"/></a>"
      ]
    },
    {
      "cell_type": "markdown",
      "source": [
        "# Домашняя лабораторная работа №9 по вычислительной математике"
      ],
      "metadata": {
        "id": "U33my5vRjf9Y"
      }
    },
    {
      "cell_type": "markdown",
      "source": [
        "Державин Андрей, Б01-909"
      ],
      "metadata": {
        "id": "l6SKJeCdjkEH"
      }
    },
    {
      "cell_type": "markdown",
      "source": [
        "## Задача XI.9.5"
      ],
      "metadata": {
        "id": "XZcT_euOjmhA"
      }
    },
    {
      "cell_type": "markdown",
      "source": [
        "Для численного отыскания периодического с периодом $1$ решения уравнения\n",
        "$$\n",
        "y'' - P^2(x)y = f(x), \\: x\\in \\left[ 0, 1 \\right]\n",
        "$$\n",
        "где\n",
        "$$\n",
        "P^2(x) =  10 + \\sin{2\\pi x}, \\:\\:\\:\n",
        "f(x) = \\cos{2\\pi x}, \\:\\:\\:\n",
        "h = 0.005, \\: \\: Nh = 1\n",
        "$$\n",
        "используется разностная схема\n",
        "$$\n",
        "\\left\\lbrace\n",
        "\\begin{matrix}\n",
        "\\dfrac{y_1 - 2y_0 + y_{N-1}}{h^2} - P^2(0)y_0 &=& f(0)& \\\\\n",
        "\\dfrac{y_{n+1} - 2y_n + y_{n-1}}{h^2} - P^2(nh)y_n &=& f(nh)&, \\: n = 1,2, \\dots, N-2 \\\\\n",
        "\\dfrac{y_0 - 2y_{N-1} + y_{N-2}}{h^2} - P^2(1-h)y_{N-1} &=& f(1-h)& \\\\\n",
        "\\end{matrix}\n",
        "\\right.\n",
        "$$\n",
        "где $y_0 = y_N$\n"
      ],
      "metadata": {
        "id": "5Mxx8Vr-jsL7"
      }
    },
    {
      "cell_type": "markdown",
      "source": [
        "### Описание метода"
      ],
      "metadata": {
        "id": "S9WwQ-KfpoDh"
      }
    },
    {
      "cell_type": "markdown",
      "source": [
        "Перепишем систему:\n",
        "$$\n",
        "\\left\\lbrace\n",
        "\\begin{matrix}\n",
        "y_1 - 2y_0 + y_{N-1} - P^2(0)y_0h^2 &=& f(0)h^2& \\\\\n",
        "y_{n+1} - 2y_n + y_{n-1} - P^2(nh)y_nh^2 &=& f(nh)h^2&, \\: n = 1,2, \\dots, N-2 \\\\\n",
        "y_0 - 2y_{N-1} + y_{N-2} - P^2(1-h)y_{N-1}h^2 &=& f(1-h)h^2& \\\\\n",
        "\\end{matrix}\n",
        "\\right. \\Leftrightarrow\n",
        "$$\n",
        "$$\n",
        "\\left\\lbrace\n",
        "\\begin{matrix}\n",
        "y_{N-1} - \\left(2 + P^2(0)h^2\\right)y_0 + y_{1} &=& f(0)h^2& \\\\\n",
        "y_{n-1} - \\left(2 + P^2(nh)h^2\\right)y_n + y_{n+1} &=& f(nh)h^2&, \\: n = 1,2, \\dots, N-2 \\\\\n",
        "y_{N-2} - \\left(2 + P^2(1-h)h^2\\right)y_{N-1} + y_0 &=& f(1-h)h^2& \\\\\n",
        "\\end{matrix}\n",
        "\\right. \\Leftrightarrow\n",
        "$$\n",
        "Введём обозначения\n",
        "$$\n",
        "b_k = 2 + P^2(kh)h^2, \\:\n",
        "\\varphi_k = f_kh^2\n",
        "$$\n",
        "Тогда система запишется в виде\n",
        "$$\n",
        "\\left\\lbrace\n",
        "\\begin{matrix}\n",
        "y_{N-1} - b_0y_0 + y_{1} &=& \\varphi_0& \\\\\n",
        "y_{n-1} - b_ny_n + y_{n+1} &=& \\varphi_n&, \\: n = 1,2, \\dots, N-2 \\\\\n",
        "y_{N-2} - b_{N-1}y_{N-1} + y_0 &=& \\varphi_{N-1}& \\\\\n",
        "\\end{matrix}\n",
        "\\right.\n",
        "$$\n",
        "Имеем рекуррентное соотношение (Абрамов, Андреев):\n",
        "$$\n",
        "y_{n-1} = \\alpha_n y_n + \\beta_n + \\gamma_n y_{N-1}\n",
        "$$\n",
        "Из первого уравнения получаем для $y_0$:\n",
        "$$\n",
        "y_0 = \\dfrac{1}{b_0} y_1 - \\dfrac{\\varphi_0}{b_0} + \\dfrac{1}{b_0}y_{N-1}\n",
        "⇔\n",
        "\\left[\n",
        "\\begin{matrix}\n",
        "\\alpha_1 = \\dfrac{1}{b_0}\\\\\n",
        "\\beta_1 = - \\dfrac{\\varphi_0}{b_0} \\\\\n",
        "\\gamma_1 = \\dfrac{1}{b_0} \n",
        "\\end{matrix}\n",
        "\\right] \\Leftrightarrow\n",
        "y_0 = \\alpha_1 y_1 + \\beta_1 + \\gamma_1y_{N-1}\n",
        "$$\n",
        "\n",
        "Имеем рекуррентную зависимость для коэффициентов:\n",
        "$$\n",
        "\\left\\lbrace\n",
        "\\begin{matrix}\n",
        "\\alpha_{i+1} &=& \\dfrac{1}{b_i - \\alpha_i}\\\\\n",
        "\\beta_{i+1} &=& \\dfrac{\\beta_i - \\varphi_i}{b_i - \\alpha_i}\\\\\n",
        "\\gamma_{i+1} &=& \\dfrac{\\gamma_i}{b_i - \\alpha_i}\\\\\n",
        "\\end{matrix}\n",
        "\\right. , \\: i = \\overline{1 \\dots N - 2}\n",
        "$$\n",
        "Подставляя прогоночные соотношения в последнее уравнение системы, получаем:\n",
        "$$\n",
        "  \\alpha_{N-1}y_{N-1} + \\beta_{N-1} + \\gamma_{N-1}y_{N-1} - b_{N-1}y_{N-1} + y_0 = \\varphi_{N-1} \\Leftrightarrow\n",
        "$$\n",
        "$$\n",
        "y_{N-1} = \\mu_{N-1}y_0 + \\nu_{N-1}\n",
        "$$\n",
        "где\n",
        "$$\n",
        "\\mu_{N-1} = -\\dfrac{1}{\\alpha_{N-1} + \\gamma_{N-1} - b_{N-1}}\n",
        "$$\n",
        "$$\n",
        "\\nu_{N-1} = \\dfrac{\\varphi_{N-1} - \\beta_{N-1}}{\\alpha_{N-1} + \\gamma_{N-1} - b_{N-1}}\n",
        "$$\n",
        "Подставив в прогоночные соотношения $y_n = \\mu_n y_0 + \\nu_n$:\n",
        "$$\n",
        "y_{n-1} = \\alpha_n\\left( \\mu_n y_0 + \\nu_n \\right) + \\beta_n + \n",
        "\\gamma_n \\left( \n",
        "  \\mu_{N-1} y_0 + \\nu_{N-1}\n",
        "  \\right)\n",
        "$$\n",
        "Перегруппировав, получаем рекуррентные соотношения:\n",
        "$$\n",
        "\\mu_{n-1} = \\alpha_n \\mu_n + \\gamma_n \\mu_{N-1}\n",
        "$$\n",
        "$$\n",
        "\\nu_{n-1} = \\beta_n + \\alpha_n \\nu_n + \\gamma_n \\nu_{N-1}\n",
        "$$\n",
        "Откуда\n",
        "$$\n",
        "y_0 = \\mu_0 y_0 + \\nu_0 \\Leftrightarrow \n",
        "y_0 \\left( 1 - \\mu_0 \\right) = \\nu_0 \\Leftrightarrow\n",
        "y_0 = \\dfrac{\\nu_0}{1 - \\mu_0}\n",
        "$$\n",
        "Теперь можно найти $y_{N-1}$, после чего воспользоваться прогоночными соотношениями для получения всех сеточных значений"
      ],
      "metadata": {
        "id": "Q-R8TdrZzaYg"
      }
    },
    {
      "cell_type": "markdown",
      "source": [
        "### Реализация"
      ],
      "metadata": {
        "id": "EPSEf1ySsdyS"
      }
    },
    {
      "cell_type": "markdown",
      "source": [
        "Импорт нужных библиотек"
      ],
      "metadata": {
        "id": "WhnbUyUosgbI"
      }
    },
    {
      "cell_type": "code",
      "source": [
        "import numpy as np\n",
        "import matplotlib.pyplot as plt"
      ],
      "metadata": {
        "id": "kvT4Ej6-JYfo"
      },
      "execution_count": null,
      "outputs": []
    },
    {
      "cell_type": "markdown",
      "source": [
        "Функция прогонки - принимает матрицу и столбец, выполняет прогонку и возваращет массив решений"
      ],
      "metadata": {
        "id": "ZwmY7w5wsjKk"
      }
    },
    {
      "cell_type": "code",
      "source": [
        "def prog(m, ph):\n",
        "  # forward\n",
        "  a = m[0][-1]\n",
        "  b = -m[0][0]\n",
        "  c = m[0][1]\n",
        "\n",
        "  alpha = [c / b]\n",
        "  beta = [-ph[0] / b]\n",
        "  gamma = [a / b]\n",
        "\n",
        "  for i in range(1, len(ph) - 1):\n",
        "    c = m[i][i + 1]\n",
        "    b = -m[i][i]\n",
        "    a = m[i][i - 1]\n",
        "\n",
        "    den = b - alpha[-1] * a\n",
        "\n",
        "    alpha.append(c / den)\n",
        "    beta.append((a * beta[-1] - ph[i]) / den)\n",
        "    gamma.append(a * gamma[-1] / den)\n",
        "\n",
        "  # backward\n",
        "  den_mu = m[-1][-2] * (alpha[-1] + gamma[-1]) + m[-1][-1]\n",
        "  mu = [-m[-1][0] / den_mu]\n",
        "  nu = [(ph[-1] - m[-1][-2] * beta[-1]) / den_mu]\n",
        "\n",
        "  for i in reversed(range(0, len(ph) - 1)):\n",
        "    mu.append(alpha[i] * mu[-1] + gamma[i] * mu[0])\n",
        "    nu.append(beta[i] + alpha[i] * nu[-1] + gamma[i] * nu[0])\n",
        "\n",
        "  mu.reverse()\n",
        "  nu.reverse()\n",
        "  y_0 = nu[0] / (1 - mu[0])\n",
        "  y = [mu[-1] * y_0 + nu[-1]]\n",
        "\n",
        "  # last\n",
        "  for i in reversed(range(1, len(ph) - 1)):\n",
        "    y.append(alpha[i] * y[-1] + beta[i] + gamma[i] * y[0])\n",
        "\n",
        "  y.append(y_0)\n",
        "  y.reverse()\n",
        "  return np.array(y)"
      ],
      "metadata": {
        "id": "D5oZdXQUr5fO"
      },
      "execution_count": null,
      "outputs": []
    },
    {
      "cell_type": "markdown",
      "source": [
        "Вычисление + сравнение результата с numpy"
      ],
      "metadata": {
        "id": "Rb9kTXCJssk9"
      }
    },
    {
      "cell_type": "code",
      "execution_count": null,
      "metadata": {
        "id": "GjO2oBUfjc-B",
        "outputId": "a3884721-8b81-42ac-96c7-f99e951abab9",
        "colab": {
          "base_uri": "https://localhost:8080/",
          "height": 536
        }
      },
      "outputs": [
        {
          "output_type": "execute_result",
          "data": {
            "text/plain": [
              "<matplotlib.legend.Legend at 0x7fb8d67ccbd0>"
            ]
          },
          "metadata": {},
          "execution_count": 3
        },
        {
          "output_type": "display_data",
          "data": {
            "text/plain": [
              "<Figure size 1296x648 with 1 Axes>"
            ],
            "image/png": "[encoded data removed]"
          },
          "metadata": {
            "needs_background": "light"
          }
        }
      ],
      "source": [
        "h = 0.005\n",
        "N =  int(1 / h)\n",
        "x = np.array([k * h for k in range(N)])\n",
        "bs = -(2 + h**2 * (10 + np.sin(2 * np.pi * x)))\n",
        "phi_col = h**2 * np.cos(2 * np.pi * x)  \n",
        "\n",
        "mat = np.diag(bs) + np.diag(np.ones(N - 1), 1) + np.diag(np.ones(N - 1), -1)\n",
        "mat[0][-1] = mat[-1][0] = 1\n",
        "\n",
        "y = np.linalg.solve(mat, phi_col)\n",
        "my_y = prog(mat, phi_col)\n",
        "\n",
        "plt.figure(figsize=(18, 9))\n",
        "plt.plot(x, y, label=\"Решение через numpy\")\n",
        "plt.plot(x, my_y, label=\"Метод прогонки\")\n",
        "plt.xlabel(\"$x$\", fontsize=20)\n",
        "plt.ylabel(\"$y$\", fontsize=20)\n",
        "plt.grid()\n",
        "plt.legend()"
      ]
    },
    {
      "cell_type": "markdown",
      "source": [
        "Оценка разницы с numpy"
      ],
      "metadata": {
        "id": "33MLgutlswbL"
      }
    },
    {
      "cell_type": "code",
      "source": [
        "print(f\"Отличие решений: {np.mean(abs(y - my_y))}\")"
      ],
      "metadata": {
        "id": "PrgFfQj9ruV6",
        "outputId": "6af9dfa6-ca2c-4fd8-d53f-2e8cef38c62d",
        "colab": {
          "base_uri": "https://localhost:8080/"
        }
      },
      "execution_count": null,
      "outputs": [
        {
          "output_type": "stream",
          "name": "stdout",
          "text": [
            "Отличие решений: 2.0722759827975652e-16\n"
          ]
        }
      ]
    }
  ]
}