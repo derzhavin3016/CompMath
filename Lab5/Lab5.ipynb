{
  "nbformat": 4,
  "nbformat_minor": 0,
  "metadata": {
    "colab": {
      "name": "Untitled2.ipynb",
      "provenance": [],
      "authorship_tag": "ABX9TyPWQWdpb9CuKkc+fJDEounT",
      "include_colab_link": true
    },
    "kernelspec": {
      "name": "python3",
      "display_name": "Python 3"
    },
    "language_info": {
      "name": "python"
    }
  },
  "cells": [
    {
      "cell_type": "markdown",
      "metadata": {
        "id": "view-in-github",
        "colab_type": "text"
      },
      "source": [
        "<a href=\"https://colab.research.google.com/github/derzhavin3016/CompMath/blob/master/Lab5/Lab5.ipynb\" target=\"_parent\"><img src=\"https://colab.research.google.com/assets/colab-badge.svg\" alt=\"Open In Colab\"/></a>"
      ]
    },
    {
      "cell_type": "markdown",
      "metadata": {
        "id": "vpwIuZtYj4Xe"
      },
      "source": [
        "# Домашняя лабораторная работа №6 по вычислительной математике\n",
        "\n",
        "Державин Андрей, Б01-909 группа"
      ]
    },
    {
      "cell_type": "markdown",
      "metadata": {
        "id": "7blBe3Y3j5_f"
      },
      "source": [
        "## Задача __VII.9.5(a)__"
      ]
    },
    {
      "cell_type": "code",
      "metadata": {
        "id": "c9lVCK-Oj-Cl"
      },
      "source": [
        "import numpy as np"
      ],
      "execution_count": 1,
      "outputs": []
    },
    {
      "cell_type": "code",
      "metadata": {
        "id": "3pPTWC4BkC7_"
      },
      "source": [
        "x = np.array([n * 0.25 for n in range(9)])\n",
        "f = np.sin(x[1:]) / x[1:]\n",
        "f = np.array([1, *f])"
      ],
      "execution_count": 3,
      "outputs": []
    },
    {
      "cell_type": "code",
      "metadata": {
        "colab": {
          "base_uri": "https://localhost:8080/"
        },
        "id": "iDxyDK2jkE09",
        "outputId": "d8e9cdf7-ea73-4d01-8888-0069c066ea72"
      },
      "source": [
        "def trap(x, f) -> float:\n",
        "  assert len(x) == len(f), \"Incompatible lengths\"\n",
        "  I = 0\n",
        "  for i in range(len(x) - 1):\n",
        "    I += (f[i] + f[i + 1]) / 2 * (x[i + 1] - x[i])\n",
        "  return I\n",
        "\n",
        "def simp(x, f) -> float:\n",
        "  assert len(x) == len(f), \"Incompatible lengths\"\n",
        "  I = 0\n",
        "  h = x[1] - x[0]\n",
        "\n",
        "  for i, fi in enumerate(f):\n",
        "    if i == 0 or i == len(f) - 1:\n",
        "      I += fi\n",
        "    elif i % 2 == 0:\n",
        "      I += 2 * fi\n",
        "    else:\n",
        "      I += 4 * fi\n",
        "  I *= h / 3\n",
        "\n",
        "  return I\n",
        "\n",
        "I_h = trap(x, f)\n",
        "I_h2 = trap(x[::2], f[::2])\n",
        "I_R = (4 * I_h - I_h2) / 3\n",
        "I_simp = simp(x, f)\n",
        "print(f'Метод трапеций I_h = {I_h}')\n",
        "print(f'Метод трапеций с удвоенным разбиением I_2h = {I_h2}')\n",
        "print(f'Метод трапеций с уточнением по Ричардсону I_R = {I_R}')\n",
        "print(f'Метод Симпсона I_S = {I_simp}')"
      ],
      "execution_count": 4,
      "outputs": [
        {
          "output_type": "stream",
          "name": "stdout",
          "text": [
            "Метод трапеций I_h = 1.603143993230099\n",
            "Метод трапеций с удвоенным разбиением I_2h = 1.5963215382293798\n",
            "Метод трапеций с уточнением по Ричардсону I_R = 1.6054181448970055\n",
            "Метод Симпсона I_S = 1.6054181448970053\n"
          ]
        }
      ]
    }
  ]
}